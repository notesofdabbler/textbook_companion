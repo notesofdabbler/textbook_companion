{
 "metadata": {
  "name": ""
 },
 "nbformat": 3,
 "nbformat_minor": 0,
 "worksheets": [
  {
   "cells": [
    {
     "cell_type": "markdown",
     "metadata": {},
     "source": [
      "# Chapter 2:\n",
      "    \n",
      "This notebook lists the python version of octave code for chapter 2 from [book website](http://jbrwww.che.wisc.edu/home/jbraw/chemreacfun/figures.html)"
     ]
    },
    {
     "cell_type": "code",
     "collapsed": false,
     "input": [
      "import numpy as np\n",
      "import scipy as sp\n",
      "from scipy import linalg\n",
      "import random\n",
      "import matplotlib.pyplot as plt"
     ],
     "language": "python",
     "metadata": {},
     "outputs": [],
     "prompt_number": 55
    },
    {
     "cell_type": "markdown",
     "metadata": {},
     "source": [
      "## Figure 2.2\n",
      "Estimated reaction rates from six production-rate measurements subject to measurement noise"
     ]
    },
    {
     "cell_type": "code",
     "collapsed": false,
     "input": [
      "# stoichiometry of reaction\n",
      "stoi=np.array([[0,1,0,-1,-1,1],\n",
      "               [-1,1,1,-1,0,0],\n",
      "               [1,0,-1,0,-1,1]])\n",
      "# rates of two independent reactions\n",
      "r=np.array([1,2])\n",
      "# stoichiometric coefficient of the two independent reactions\n",
      "A=stoi[0:2,:]\n",
      "print 'A \\n',A\n",
      "# number of components\n",
      "nc=shape(A)[1]\n",
      "# estimated rate of components\n",
      "R=dot(A.T,r)\n",
      "print 'R \\n',R\n",
      "# Create some data points for component rates with noise added\n",
      "npoints=6\n",
      "# set seed\n",
      "random.seed(1234)\n",
      "Rmeas=np.zeros((6,npoints))\n",
      "for i in range(nc):\n",
      "    Rmeas[:,i]=R+0.05*np.random.randn(nc)\n",
      "print 'Rmeas \\n',Rmeas"
     ],
     "language": "python",
     "metadata": {},
     "outputs": [
      {
       "output_type": "stream",
       "stream": "stdout",
       "text": [
        "A \n",
        "[[ 0  1  0 -1 -1  1]\n",
        " [-1  1  1 -1  0  0]]\n",
        "R \n",
        "[-2  3  2 -3 -1  1]\n",
        "Rmeas \n",
        "[[-2.07226634 -2.01696148 -2.05931188 -1.97068877 -1.96528602 -1.93042774]\n",
        " [ 3.01408248  2.99073847  3.03294007  2.98983358  2.90322314  2.95823425]\n",
        " [ 1.95153718  2.09531574  2.08784763  1.93929821  2.04326216  1.98045146]\n",
        " [-3.01063734 -2.96304031 -3.05724063 -3.04733954 -2.96769834 -3.0063227 ]\n",
        " [-1.0694667  -1.00407898 -0.96690457 -1.01657873 -0.97118998 -0.98148248]\n",
        " [ 1.02103472  0.93835208  1.01846803  0.96682691  0.99087051  1.08255446]]\n"
       ]
      }
     ],
     "prompt_number": 56
    },
    {
     "cell_type": "code",
     "collapsed": false,
     "input": [
      "# Estimate reaction rates based on component rates\n",
      "rest=dot(linalg.inv(dot(A,A.T)),dot(A,Rmeas))\n",
      "print 'Estimated rates \\n',rest"
     ],
     "language": "python",
     "metadata": {},
     "outputs": [
      {
       "output_type": "stream",
       "stream": "stdout",
       "text": [
        "Estimated rates \n",
        "[[ 1.03031986  0.95439395  0.98562773  1.01566624  0.96441571  1.03029194]\n",
        " [ 1.99697091  2.03931703  2.06652119  1.97895691  1.98765956  1.95371307]]\n"
       ]
      }
     ],
     "prompt_number": 57
    },
    {
     "cell_type": "code",
     "collapsed": false,
     "input": [
      "# plot estimated rates\n",
      "fig = plt.figure()\n",
      "plt.plot(rest[0,:],rest[1,:],'o')\n",
      "plt.xlim([0.8,1.2])\n",
      "plt.ylim([1.8,2.2])\n",
      "plt.xlabel(r'$r_1$',fontsize=20)\n",
      "plt.ylabel(r'$r_2$',fontsize=20)"
     ],
     "language": "python",
     "metadata": {},
     "outputs": [
      {
       "metadata": {},
       "output_type": "pyout",
       "prompt_number": 58,
       "text": [
        "<matplotlib.text.Text at 0xa8f8170>"
       ]
      },
      {
       "metadata": {},
       "output_type": "display_data",
       "png": "[encoded data removed]",
       "text": [
        "<matplotlib.figure.Figure at 0xa8e7150>"
       ]
      }
     ],
     "prompt_number": 58
    },
    {
     "cell_type": "code",
     "collapsed": false,
     "input": [],
     "language": "python",
     "metadata": {},
     "outputs": [],
     "prompt_number": 58
    }
   ],
   "metadata": {}
  }
 ]
}