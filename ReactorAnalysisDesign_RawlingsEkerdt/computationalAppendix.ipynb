{
 "cells": [
  {
   "cell_type": "markdown",
   "metadata": {},
   "source": [
    "## Chemical Reactor Analysis and Design Fundamentals - Rawlings and Ekerdt: Computational Appendix\n",
    "This notebook is an attempt at python version of octave code from [computational appendix](http://jbrwww.che.wisc.edu/home/jbraw/chemreacfun/web-appendix.pdf).\n",
    "\n",
    "### A1. Linear Algebra and Least Squares"
   ]
  },
  {
   "cell_type": "code",
   "execution_count": 23,
   "metadata": {
    "collapsed": true
   },
   "outputs": [],
   "source": [
    "import numpy as np\n",
    "import matplotlib.pyplot as plt\n",
    "%matplotlib inline"
   ]
  },
  {
   "cell_type": "code",
   "execution_count": 3,
   "metadata": {
    "collapsed": false
   },
   "outputs": [
    {
     "name": "stdout",
     "output_type": "stream",
     "text": [
      "[[ 0  1  0 -1 -1  1]\n",
      " [-1  1  1 -1  0  0]\n",
      " [ 1  0 -1  0 -1  1]]\n",
      "('Rank of matrix is ', 2)\n"
     ]
    }
   ],
   "source": [
    "# stoichiometric matrix\n",
    "stoi = np.array([[0,1,0,-1,-1,1],\n",
    "                [-1,1,1,-1,0,0],\n",
    "                [1,0,-1,0,-1,1]])\n",
    "print(stoi)\n",
    "\n",
    "# rank of stoichiometric matrix\n",
    "rank = np.linalg.matrix_rank(stoi)\n",
    "print('Rank of matrix is ',rank)"
   ]
  },
  {
   "cell_type": "code",
   "execution_count": 5,
   "metadata": {
    "collapsed": false
   },
   "outputs": [
    {
     "name": "stdout",
     "output_type": "stream",
     "text": [
      "[ 1  3 -1 -3 -4  4]\n"
     ]
    }
   ],
   "source": [
    "# reaction rates of 3 reactions \n",
    "r = np.array([1,2,3])\n",
    "\n",
    "# species production rates\n",
    "R = np.dot(np.transpose(stoi),r)\n",
    "print R"
   ]
  },
  {
   "cell_type": "code",
   "execution_count": 8,
   "metadata": {
    "collapsed": false
   },
   "outputs": [
    {
     "name": "stdout",
     "output_type": "stream",
     "text": [
      "[[ 0  1  0 -1 -1  1]\n",
      " [-1  1  1 -1  0  0]]\n",
      "[1 2]\n",
      "[-2  3  2 -3 -1  1]\n"
     ]
    }
   ],
   "source": [
    "# Example A.1: Estimating Reaction Rates\n",
    "\n",
    "stoi = np.array([[0,1,0,-1,-1,1],[-1,1,1,-1,0,0]])\n",
    "print(stoi)\n",
    "\n",
    "r = np.array([1,2])\n",
    "print(r)\n",
    "\n",
    "R = np.dot(np.transpose(stoi),r)\n",
    "print R"
   ]
  },
  {
   "cell_type": "code",
   "execution_count": 20,
   "metadata": {
    "collapsed": false
   },
   "outputs": [
    {
     "name": "stdout",
     "output_type": "stream",
     "text": [
      "6\n"
     ]
    }
   ],
   "source": [
    "# Simulate species formation rates\n",
    "nmeas = 2000\n",
    "nspec = stoi.shape[1]\n",
    "print nspec\n",
    "\n",
    "Rexpt = np.random.randn(nmeas,nspec)*0.05 + np.repeat([R],[nmeas],axis = 0)"
   ]
  },
  {
   "cell_type": "code",
   "execution_count": 22,
   "metadata": {
    "collapsed": false
   },
   "outputs": [
    {
     "data": {
      "text/plain": [
       "(2000, 2)"
      ]
     },
     "execution_count": 22,
     "metadata": {},
     "output_type": "execute_result"
    }
   ],
   "source": [
    "# Estimate reaction rates\n",
    "nu_nuT = np.dot(stoi,np.transpose(stoi))\n",
    "nu_nuT_inv = np.linalg.inv(nu_nuT)\n",
    "nu_R = np.dot(stoi,np.transpose(Rexpt))\n",
    "rest = np.dot(nu_nuT_inv,nu_R)\n",
    "rest = np.transpose(rest)\n",
    "rest.shape"
   ]
  },
  {
   "cell_type": "code",
   "execution_count": 27,
   "metadata": {
    "collapsed": false
   },
   "outputs": [
    {
     "data": {
      "text/plain": [
       "<matplotlib.collections.PathCollection at 0x10ae90cd0>"
      ]
     },
     "execution_count": 27,
     "metadata": {},
     "output_type": "execute_result"
    },
    {
     "data": {
      "image/png": "[encoded data removed]",
      "text/plain": [
       "<matplotlib.figure.Figure at 0x10ab8e510>"
      ]
     },
     "metadata": {},
     "output_type": "display_data"
    }
   ],
   "source": [
    "plt.scatter(rest[:,0],rest[:,1])"
   ]
  },
  {
   "cell_type": "code",
   "execution_count": null,
   "metadata": {
    "collapsed": true
   },
   "outputs": [],
   "source": []
  }
 ],
 "metadata": {
  "kernelspec": {
   "display_name": "Python 2",
   "language": "python",
   "name": "python2"
  },
  "language_info": {
   "codemirror_mode": {
    "name": "ipython",
    "version": 2
   },
   "file_extension": ".py",
   "mimetype": "text/x-python",
   "name": "python",
   "nbconvert_exporter": "python",
   "pygments_lexer": "ipython2",
   "version": "2.7.11"
  }
 },
 "nbformat": 4,
 "nbformat_minor": 0
}
