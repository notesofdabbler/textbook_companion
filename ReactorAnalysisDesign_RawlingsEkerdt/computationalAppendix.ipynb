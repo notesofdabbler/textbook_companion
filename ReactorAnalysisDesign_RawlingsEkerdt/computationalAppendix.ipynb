{
 "cells": [
  {
   "cell_type": "markdown",
   "metadata": {},
   "source": [
    "## Chemical Reactor Analysis and Design Fundamentals - Rawlings and Ekerdt: Computational Appendix\n",
    "This notebook is an attempt at python version of octave code from [computational appendix](http://jbrwww.che.wisc.edu/home/jbraw/chemreacfun/web-appendix.pdf).\n",
    "\n",
    "### A1. Linear Algebra and Least Squares"
   ]
  },
  {
   "cell_type": "code",
   "execution_count": 1,
   "metadata": {
    "collapsed": false
   },
   "outputs": [
    {
     "name": "stderr",
     "output_type": "stream",
     "text": [
      "/Users/shanki/anaconda/lib/python2.7/site-packages/matplotlib/font_manager.py:273: UserWarning: Matplotlib is building the font cache using fc-list. This may take a moment.\n",
      "  warnings.warn('Matplotlib is building the font cache using fc-list. This may take a moment.')\n"
     ]
    }
   ],
   "source": [
    "import numpy as np\n",
    "import matplotlib.pyplot as plt\n",
    "%matplotlib inline"
   ]
  },
  {
   "cell_type": "code",
   "execution_count": 2,
   "metadata": {
    "collapsed": false
   },
   "outputs": [
    {
     "name": "stdout",
     "output_type": "stream",
     "text": [
      "[[ 0  1  0 -1 -1  1]\n",
      " [-1  1  1 -1  0  0]\n",
      " [ 1  0 -1  0 -1  1]]\n",
      "('Rank of matrix is ', 2)\n"
     ]
    }
   ],
   "source": [
    "# stoichiometric matrix\n",
    "stoi = np.array([[0,1,0,-1,-1,1],\n",
    "                [-1,1,1,-1,0,0],\n",
    "                [1,0,-1,0,-1,1]])\n",
    "print(stoi)\n",
    "\n",
    "# rank of stoichiometric matrix\n",
    "rank = np.linalg.matrix_rank(stoi)\n",
    "print('Rank of matrix is ',rank)"
   ]
  },
  {
   "cell_type": "code",
   "execution_count": 3,
   "metadata": {
    "collapsed": false
   },
   "outputs": [
    {
     "name": "stdout",
     "output_type": "stream",
     "text": [
      "[ 1  3 -1 -3 -4  4]\n"
     ]
    }
   ],
   "source": [
    "# reaction rates of 3 reactions \n",
    "r = np.array([1,2,3])\n",
    "\n",
    "# species production rates\n",
    "R = np.dot(np.transpose(stoi),r)\n",
    "print R"
   ]
  },
  {
   "cell_type": "code",
   "execution_count": 52,
   "metadata": {
    "collapsed": false
   },
   "outputs": [
    {
     "name": "stdout",
     "output_type": "stream",
     "text": [
      "Stoichiometry Matrix\n",
      "[[ 0  1  0 -1 -1  1]\n",
      " [-1  1  1 -1  0  0]]\n",
      "\n",
      "Reaction rates\n",
      "[1 2]\n",
      "\n",
      "Species rates\n",
      "[-2  3  2 -3 -1  1]\n",
      "\n"
     ]
    }
   ],
   "source": [
    "# Example A.1: Estimating Reaction Rates\n",
    "\n",
    "stoi = np.array([[0,1,0,-1,-1,1],[-1,1,1,-1,0,0]])\n",
    "print(\"Stoichiometry Matrix\")\n",
    "print(stoi)\n",
    "print\n",
    "\n",
    "r = np.array([1,2])\n",
    "print(\"Reaction rates\")\n",
    "print(r)\n",
    "print\n",
    "\n",
    "R = np.dot(np.transpose(stoi),r)\n",
    "print(\"Species rates\")\n",
    "print R\n",
    "print"
   ]
  },
  {
   "cell_type": "code",
   "execution_count": 5,
   "metadata": {
    "collapsed": false
   },
   "outputs": [
    {
     "name": "stdout",
     "output_type": "stream",
     "text": [
      "6\n"
     ]
    }
   ],
   "source": [
    "# Simulate species formation rates\n",
    "nmeas = 2000\n",
    "nspec = stoi.shape[1]\n",
    "print nspec\n",
    "\n",
    "Rexpt = np.random.randn(nmeas,nspec)*0.05 + np.repeat([R],[nmeas],axis = 0)"
   ]
  },
  {
   "cell_type": "code",
   "execution_count": 6,
   "metadata": {
    "collapsed": false
   },
   "outputs": [
    {
     "data": {
      "text/plain": [
       "(2000, 2)"
      ]
     },
     "execution_count": 6,
     "metadata": {},
     "output_type": "execute_result"
    }
   ],
   "source": [
    "# Estimate reaction rates\n",
    "nu_nuT = np.dot(stoi,np.transpose(stoi))\n",
    "nu_nuT_inv = np.linalg.inv(nu_nuT)\n",
    "nu_R = np.dot(stoi,np.transpose(Rexpt))\n",
    "rest = np.dot(nu_nuT_inv,nu_R)\n",
    "rest = np.transpose(rest)\n",
    "rest.shape"
   ]
  },
  {
   "cell_type": "code",
   "execution_count": 7,
   "metadata": {
    "collapsed": false
   },
   "outputs": [
    {
     "data": {
      "text/plain": [
       "<matplotlib.collections.PathCollection at 0x10c28cbd0>"
      ]
     },
     "execution_count": 7,
     "metadata": {},
     "output_type": "execute_result"
    },
    {
     "data": {
      "image/png": "[encoded data removed]",
      "text/plain": [
       "<matplotlib.figure.Figure at 0x105ff2ad0>"
      ]
     },
     "metadata": {},
     "output_type": "display_data"
    }
   ],
   "source": [
    "plt.scatter(rest[:,0],rest[:,1])"
   ]
  },
  {
   "cell_type": "markdown",
   "metadata": {
    "collapsed": true
   },
   "source": [
    "## Solving Nonlinear Equations"
   ]
  },
  {
   "cell_type": "code",
   "execution_count": 21,
   "metadata": {
    "collapsed": true
   },
   "outputs": [],
   "source": [
    "def dgdx(x):\n",
    "    K1 = 108\n",
    "    K2 = 284\n",
    "    P = 2.5\n",
    "    yI0 = 0.5\n",
    "    yB0 = 0.5\n",
    "    yP10 = 0.0\n",
    "    yP20 = 0.0\n",
    "    d = 1 - x[0] - x[1]\n",
    "    yI = (yI0 - x[0] - x[1])/d\n",
    "    yB = (yB0 - x[0] - x[1])/d\n",
    "    yP1 = (yP10 + x[0])/d\n",
    "    yP2 = (yP20 + x[1])/d\n",
    "    residual = np.zeros(2)\n",
    "    residual[0] = P*K1*yI*yB - yP1\n",
    "    residual[1] = P*K2*yI*yB - yP2\n",
    "    return residual"
   ]
  },
  {
   "cell_type": "code",
   "execution_count": 23,
   "metadata": {
    "collapsed": false
   },
   "outputs": [],
   "source": [
    "xinit = np.array([0.2,0.2])"
   ]
  },
  {
   "cell_type": "code",
   "execution_count": 47,
   "metadata": {
    "collapsed": false
   },
   "outputs": [],
   "source": [
    "import scipy.optimize as spopt\n",
    "solobj = spopt.fsolve(dgdx,xinit,full_output = 1)"
   ]
  },
  {
   "cell_type": "code",
   "execution_count": 48,
   "metadata": {
    "collapsed": false
   },
   "outputs": [
    {
     "data": {
      "text/plain": [
       "(array([ 0.13335692,  0.35067931]), {'fjac': array([[-0.37473938, -0.9271302 ],\n",
       "         [ 0.9271302 , -0.37473938]]),\n",
       "  'fvec': array([ -1.80883086e-11,  -4.63823424e-11]),\n",
       "  'nfev': 13,\n",
       "  'qtf': array([ -1.00517351e-07,  -1.20727197e-09]),\n",
       "  'r': array([ 85.32030584,  98.724343  ,   2.67276552])}, 1, 'The solution converged.')"
      ]
     },
     "execution_count": 48,
     "metadata": {},
     "output_type": "execute_result"
    }
   ],
   "source": [
    "solobj"
   ]
  },
  {
   "cell_type": "code",
   "execution_count": 51,
   "metadata": {
    "collapsed": false
   },
   "outputs": [
    {
     "name": "stdout",
     "output_type": "stream",
     "text": [
      "[ 0.13335692  0.35067931]\n",
      "('The solution converged.',)\n"
     ]
    }
   ],
   "source": [
    "# Solution\n",
    "x = solobj[0]\n",
    "print x\n",
    "\n",
    "# last element of solobj has message (in this case solution converged)\n",
    "print solobj[-1:]"
   ]
  },
  {
   "cell_type": "markdown",
   "metadata": {},
   "source": [
    "## Nonlinear Optimization"
   ]
  },
  {
   "cell_type": "code",
   "execution_count": 56,
   "metadata": {
    "collapsed": false
   },
   "outputs": [],
   "source": [
    "def gibbs(x):\n",
    "    dg1 = -3.72e3\n",
    "    dg2 = -4.49e3\n",
    "    T = 400\n",
    "    R = 1.987\n",
    "    P = 2.5\n",
    "    K1 = np.exp(-dg1/(R*T))\n",
    "    K2 = np.exp(-dg2/(R*T))\n",
    "    yI0 = 0.5\n",
    "    yB0 = 0.5\n",
    "    yP10 = 0.0\n",
    "    yP20 = 0.0\n",
    "    d = 1 - x[0] - x[1]\n",
    "    yI = (yI0 - x[0] - x[1])/d\n",
    "    yB = (yB0 - x[0] - x[1])/d\n",
    "    yP1 = (yP10 + x[0])/d\n",
    "    yP2 = (yP20 + x[1])/d\n",
    "    retval = -(x[0]*np.log(K1) + x[1]*np.log(K2)) + (1-x[0]-x[1])*np.log(P) + yI*d*np.log(yI) + \\\n",
    "          yB*d*np.log(yB) + yP1*d*np.log(yP1) + yP2*d*np.log(yP2)\n",
    "    return retval   "
   ]
  },
  {
   "cell_type": "code",
   "execution_count": 58,
   "metadata": {
    "collapsed": false
   },
   "outputs": [
    {
     "data": {
      "text/plain": [
       "-2.3139509056689858"
      ]
     },
     "execution_count": 58,
     "metadata": {},
     "output_type": "execute_result"
    }
   ],
   "source": [
    "gibbs(np.array([0.2,0.2]))"
   ]
  },
  {
   "cell_type": "code",
   "execution_count": null,
   "metadata": {
    "collapsed": true
   },
   "outputs": [],
   "source": []
  }
 ],
 "metadata": {
  "kernelspec": {
   "display_name": "Python 2",
   "language": "python",
   "name": "python2"
  },
  "language_info": {
   "codemirror_mode": {
    "name": "ipython",
    "version": 2
   },
   "file_extension": ".py",
   "mimetype": "text/x-python",
   "name": "python",
   "nbconvert_exporter": "python",
   "pygments_lexer": "ipython2",
   "version": "2.7.11"
  }
 },
 "nbformat": 4,
 "nbformat_minor": 0
}
