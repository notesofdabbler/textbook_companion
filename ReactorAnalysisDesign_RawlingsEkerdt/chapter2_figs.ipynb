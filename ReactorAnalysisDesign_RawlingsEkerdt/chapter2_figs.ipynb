{
 "metadata": {
  "name": ""
 },
 "nbformat": 3,
 "nbformat_minor": 0,
 "worksheets": [
  {
   "cells": [
    {
     "cell_type": "markdown",
     "metadata": {},
     "source": [
      "# Chapter 2:\n",
      "    \n",
      "This notebook lists the python version of octave code for chapter 2 from [book website](http://jbrwww.che.wisc.edu/home/jbraw/chemreacfun/figures.html)"
     ]
    },
    {
     "cell_type": "code",
     "collapsed": false,
     "input": [
      "import numpy as np\n",
      "import scipy as sp\n",
      "from scipy import linalg\n",
      "import random\n",
      "import matplotlib.pyplot as plt"
     ],
     "language": "python",
     "metadata": {},
     "outputs": [],
     "prompt_number": 2
    },
    {
     "cell_type": "markdown",
     "metadata": {},
     "source": [
      "## Figure 2.2\n",
      "Estimated reaction rates from six production-rate measurements subject to measurement noise"
     ]
    },
    {
     "cell_type": "code",
     "collapsed": false,
     "input": [
      "# stoichiometry of reaction\n",
      "stoi=np.array([[0,1,0,-1,-1,1],\n",
      "               [-1,1,1,-1,0,0],\n",
      "               [1,0,-1,0,-1,1]])\n",
      "# rates of two independent reactions\n",
      "r=np.array([1,2])\n",
      "# stoichiometric coefficient of the two independent reactions\n",
      "A=stoi[0:2,:]\n",
      "print 'A \\n',A\n",
      "# number of components\n",
      "nc=shape(A)[1]\n",
      "# estimated rate of components\n",
      "R=dot(A.T,r)\n",
      "print 'R \\n',R\n",
      "# Create some data points for component rates with noise added\n",
      "npoints=6\n",
      "# set seed\n",
      "random.seed(1234)\n",
      "Rmeas=np.zeros((6,npoints))\n",
      "for i in range(npoints):\n",
      "    Rmeas[:,i]=R+0.05*np.random.randn(nc)\n",
      "print 'Rmeas \\n',Rmeas"
     ],
     "language": "python",
     "metadata": {},
     "outputs": [
      {
       "output_type": "stream",
       "stream": "stdout",
       "text": [
        "A \n",
        "[[ 0  1  0 -1 -1  1]\n",
        " [-1  1  1 -1  0  0]]\n",
        "R \n",
        "[-2  3  2 -3 -1  1]\n",
        "Rmeas \n",
        "[[-1.97182033 -2.04866947 -1.92470382 -2.04639635 -1.99860477 -2.06747096]\n",
        " [ 3.00273635  2.97570512  3.01813626  3.05665653  2.91477448  3.06238768]\n",
        " [ 1.91272173  2.03809896  2.01188466  2.02444556  2.12675476  1.98720277]\n",
        " [-2.93385981 -2.96496683 -2.97669728 -2.95231316 -3.07992829 -3.00794543]\n",
        " [-0.92569603 -1.04989547 -0.94544676 -1.009276   -1.05230263 -0.90999937]\n",
        " [ 0.98340164  0.97768915  0.94575622  1.04218378  1.06793091  0.93123758]]\n"
       ]
      }
     ],
     "prompt_number": 10
    },
    {
     "cell_type": "code",
     "collapsed": false,
     "input": [
      "# Estimate reaction rates based on component rates\n",
      "rest=dot(linalg.inv(dot(A,A.T)),dot(A,Rmeas))\n",
      "print 'Estimated rates \\n',rest"
     ],
     "language": "python",
     "metadata": {},
     "outputs": [
      {
       "output_type": "stream",
       "stream": "stdout",
       "text": [
        "Estimated rates \n",
        "[[ 0.97837491  0.98484546  0.97344184  1.00684123  1.01830172  0.94968888]\n",
        " [ 1.9660971   2.01443736  1.99613459  2.01653229  2.02086472  2.05640727]]\n"
       ]
      }
     ],
     "prompt_number": 11
    },
    {
     "cell_type": "code",
     "collapsed": false,
     "input": [
      "# plot estimated rates\n",
      "fig = plt.figure()\n",
      "plt.plot(rest[0,:],rest[1,:],'o')\n",
      "plt.xlim([0.8,1.2])\n",
      "plt.ylim([1.8,2.2])\n",
      "plt.xlabel(r'$r_1$',fontsize=20)\n",
      "plt.ylabel(r'$r_2$',fontsize=20)"
     ],
     "language": "python",
     "metadata": {},
     "outputs": [
      {
       "metadata": {},
       "output_type": "pyout",
       "prompt_number": 12,
       "text": [
        "<matplotlib.text.Text at 0x6cd12d0>"
       ]
      },
      {
       "metadata": {},
       "output_type": "display_data",
       "png": "[encoded data removed]",
       "text": [
        "<matplotlib.figure.Figure at 0x7046590>"
       ]
      }
     ],
     "prompt_number": 12
    },
    {
     "cell_type": "markdown",
     "metadata": {},
     "source": [
      "## Figure 2.3\n",
      "Estimated reaction rates from 500 production-rate measurements subject to measurement noise"
     ]
    },
    {
     "cell_type": "code",
     "collapsed": false,
     "input": [
      "# stoichiometry of reaction\n",
      "stoi=np.array([[0,1,0,-1,-1,1],\n",
      "               [-1,1,1,-1,0,0],\n",
      "               [1,0,-1,0,-1,1]])\n",
      "# rates of two independent reactions\n",
      "r=np.array([1,2])\n",
      "# stoichiometric coefficient of the two independent reactions\n",
      "A=stoi[0:2,:]\n",
      "print 'A \\n',A\n",
      "# number of components\n",
      "nc=shape(A)[1]\n",
      "# estimated rate of components\n",
      "R=dot(A.T,r)\n",
      "print 'R \\n',R\n",
      "# Create some data points for component rates with noise added\n",
      "npoints=500\n",
      "# set seed\n",
      "random.seed(1234)\n",
      "Rmeas=np.zeros((nc,npoints))\n",
      "for i in range(npoints):\n",
      "    Rmeas[:,i]=R+0.05*np.random.randn(nc)"
     ],
     "language": "python",
     "metadata": {},
     "outputs": [
      {
       "output_type": "stream",
       "stream": "stdout",
       "text": [
        "A \n",
        "[[ 0  1  0 -1 -1  1]\n",
        " [-1  1  1 -1  0  0]]\n",
        "R \n",
        "[-2  3  2 -3 -1  1]\n"
       ]
      }
     ],
     "prompt_number": 13
    },
    {
     "cell_type": "code",
     "collapsed": false,
     "input": [
      "# Estimate reaction rates based on component rates\n",
      "rest=dot(linalg.inv(dot(A,A.T)),dot(A,Rmeas))\n",
      "# plot estimated rates\n",
      "fig = plt.figure()\n",
      "plt.plot(rest[0,:],rest[1,:],'o')\n",
      "plt.xlim([0.8,1.2])\n",
      "plt.ylim([1.8,2.2])\n",
      "plt.xlabel(r'$r_1$',fontsize=20)\n",
      "plt.ylabel(r'$r_2$',fontsize=20)"
     ],
     "language": "python",
     "metadata": {},
     "outputs": [
      {
       "metadata": {},
       "output_type": "pyout",
       "prompt_number": 14,
       "text": [
        "<matplotlib.text.Text at 0x6cd15b0>"
       ]
      },
      {
       "metadata": {},
       "output_type": "display_data",
       "png": "[encoded data removed]",
       "text": [
        "<matplotlib.figure.Figure at 0x6ce15d0>"
       ]
      }
     ],
     "prompt_number": 14
    },
    {
     "cell_type": "code",
     "collapsed": false,
     "input": [],
     "language": "python",
     "metadata": {},
     "outputs": []
    }
   ],
   "metadata": {}
  }
 ]
}