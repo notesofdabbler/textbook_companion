{
 "cells": [
  {
   "cell_type": "markdown",
   "metadata": {},
   "source": [
    "# Linear Algebra"
   ]
  },
  {
   "cell_type": "markdown",
   "metadata": {},
   "source": [
    "Solving a system $Ax = b$"
   ]
  },
  {
   "cell_type": "code",
   "execution_count": 1,
   "metadata": {
    "collapsed": true
   },
   "outputs": [],
   "source": [
    "import numpy as np\n",
    "import scipy as sp\n",
    "import scipy.linalg as splin"
   ]
  },
  {
   "cell_type": "code",
   "execution_count": 2,
   "metadata": {
    "collapsed": false
   },
   "outputs": [
    {
     "name": "stdout",
     "output_type": "stream",
     "text": [
      "[[ 1.  1.  1.]\n",
      " [ 2.  1.  3.]\n",
      " [ 3.  1.  6.]]\n"
     ]
    }
   ],
   "source": [
    "A = np.array([[1.0,1.0,1.0],[2.0,1.0,3.0],[3.0,1.0,6.0]])\n",
    "print(A)"
   ]
  },
  {
   "cell_type": "code",
   "execution_count": 3,
   "metadata": {
    "collapsed": false
   },
   "outputs": [
    {
     "name": "stdout",
     "output_type": "stream",
     "text": [
      "[ 4.  7.  2.]\n"
     ]
    }
   ],
   "source": [
    "b = np.array([4.0,7.0,2.0])\n",
    "print(b)"
   ]
  },
  {
   "cell_type": "code",
   "execution_count": 4,
   "metadata": {
    "collapsed": false
   },
   "outputs": [
    {
     "name": "stdout",
     "output_type": "stream",
     "text": [
      "[ 19.  -7.  -8.]\n"
     ]
    }
   ],
   "source": [
    "x = np.linalg.solve(A,b)\n",
    "print(x)"
   ]
  },
  {
   "cell_type": "markdown",
   "metadata": {},
   "source": [
    "Matrix Factorization: LU decomposition"
   ]
  },
  {
   "cell_type": "code",
   "execution_count": 5,
   "metadata": {
    "collapsed": false
   },
   "outputs": [
    {
     "name": "stdout",
     "output_type": "stream",
     "text": [
      "[[ 1.  1.  1.]\n",
      " [ 2.  1.  3.]\n",
      " [ 3.  1.  6.]]\n"
     ]
    }
   ],
   "source": [
    "A = np.array([[1.0,1.0,1.0],[2.0,1.0,3.0],[3.0,1.0,6.0]])\n",
    "print(A)"
   ]
  },
  {
   "cell_type": "code",
   "execution_count": 6,
   "metadata": {
    "collapsed": false
   },
   "outputs": [
    {
     "name": "stdout",
     "output_type": "stream",
     "text": [
      "P matrix\n",
      "[[ 0.  1.  0.]\n",
      " [ 0.  0.  1.]\n",
      " [ 1.  0.  0.]]\n",
      "L matrix\n",
      "[[ 1.          0.          0.        ]\n",
      " [ 0.33333333  1.          0.        ]\n",
      " [ 0.66666667  0.5         1.        ]]\n",
      "U matrix\n",
      "[[ 3.          1.          6.        ]\n",
      " [ 0.          0.66666667 -1.        ]\n",
      " [ 0.          0.         -0.5       ]]\n"
     ]
    }
   ],
   "source": [
    "P,L,U = splin.lu(A)\n",
    "print(\"P matrix\")\n",
    "print(P)\n",
    "print(\"L matrix\")\n",
    "print(L)\n",
    "print(\"U matrix\")\n",
    "print(U)"
   ]
  },
  {
   "cell_type": "markdown",
   "metadata": {},
   "source": [
    "Solving $Ax = b$ using LU decompositon:  \n",
    "$Ax = b \\Rightarrow PLUx = b$   \n",
    "Solve the following in sequence:   \n",
    "$Py_1 = b$   \n",
    "$Ly_2 = y_1$   \n",
    "$Ux = y_2$   "
   ]
  },
  {
   "cell_type": "code",
   "execution_count": 7,
   "metadata": {
    "collapsed": false
   },
   "outputs": [
    {
     "name": "stdout",
     "output_type": "stream",
     "text": [
      "[ 19.  -7.  -8.]\n"
     ]
    }
   ],
   "source": [
    "b = np.array([4.0,7.0,2.0])\n",
    "y1 = np.linalg.solve(P,b)\n",
    "y2 = np.linalg.solve(L,y1)\n",
    "x = np.linalg.solve(U,y2)\n",
    "print(x)"
   ]
  },
  {
   "cell_type": "markdown",
   "metadata": {},
   "source": [
    "Matrix Factorization: Cholesky Factorization  \n",
    "$A = LL^T$"
   ]
  },
  {
   "cell_type": "code",
   "execution_count": 8,
   "metadata": {
    "collapsed": false
   },
   "outputs": [
    {
     "name": "stdout",
     "output_type": "stream",
     "text": [
      "[[ 2.  1.  1.]\n",
      " [ 1.  4.  2.]\n",
      " [ 1.  2.  6.]]\n"
     ]
    }
   ],
   "source": [
    "A = np.array([[2.0,1.0,1.0],[1.0,4.0,2.0],[1.0,2.0,6.0]])\n",
    "print(A)"
   ]
  },
  {
   "cell_type": "code",
   "execution_count": 9,
   "metadata": {
    "collapsed": false
   },
   "outputs": [
    {
     "name": "stdout",
     "output_type": "stream",
     "text": [
      "[[ 1.41421356  0.70710678  0.70710678]\n",
      " [ 0.          1.87082869  0.80178373]\n",
      " [ 0.          0.          2.20389266]]\n"
     ]
    }
   ],
   "source": [
    "R = splin.cholesky(A)\n",
    "print(R)"
   ]
  },
  {
   "cell_type": "code",
   "execution_count": 10,
   "metadata": {
    "collapsed": false
   },
   "outputs": [
    {
     "name": "stdout",
     "output_type": "stream",
     "text": [
      "[[ 2.  1.  1.]\n",
      " [ 1.  4.  2.]\n",
      " [ 1.  2.  6.]]\n"
     ]
    }
   ],
   "source": [
    "print(np.dot(R.transpose(),R))"
   ]
  },
  {
   "cell_type": "markdown",
   "metadata": {
    "collapsed": true
   },
   "source": [
    "Solve $Ax=b$ using cholesky factorization  \n",
    "$Ax = b \\Rightarrow R^TRx = b$  \n",
    "Solve $R^Ty = b$  \n",
    "Solve $Rx = y$  "
   ]
  },
  {
   "cell_type": "code",
   "execution_count": 11,
   "metadata": {
    "collapsed": false
   },
   "outputs": [
    {
     "name": "stdout",
     "output_type": "stream",
     "text": [
      "[ 1.  2.  3.]\n"
     ]
    }
   ],
   "source": [
    "b = np.array([7,15,23])\n",
    "y = np.linalg.solve(R.transpose(),b)\n",
    "x = np.linalg.solve(R,y)\n",
    "print(x)"
   ]
  },
  {
   "cell_type": "markdown",
   "metadata": {},
   "source": [
    "## Example: Modeling a Separation System\n",
    "\n",
    "The set of mass balances are:\n",
    "\\begin{align}\n",
    "x_1 + x_2 + x_3 & = 10 \\\\\n",
    "0.04x_1 + 0.54x_2 + 0.26x_3 & = 2 \\\\\n",
    "0.93x_1 + 0.24x_2 + 0.0x_3 & = 6\n",
    "\\end{align}"
   ]
  },
  {
   "cell_type": "code",
   "execution_count": 12,
   "metadata": {
    "collapsed": false
   },
   "outputs": [
    {
     "name": "stdout",
     "output_type": "stream",
     "text": [
      "[ 5.82375479  2.43295019  1.74329502]\n"
     ]
    }
   ],
   "source": [
    "A = np.array([[1.0,1.0,1.0],[0.04,0.54,0.26],[0.93,0.24,0.0]])\n",
    "b = np.array([10.0,2.0,6.0])\n",
    "x = np.linalg.solve(A,b)\n",
    "print(x)"
   ]
  },
  {
   "cell_type": "code",
   "execution_count": null,
   "metadata": {
    "collapsed": true
   },
   "outputs": [],
   "source": []
  }
 ],
 "metadata": {
  "kernelspec": {
   "display_name": "Python 2",
   "language": "python",
   "name": "python2"
  },
  "language_info": {
   "codemirror_mode": {
    "name": "ipython",
    "version": 2
   },
   "file_extension": ".py",
   "mimetype": "text/x-python",
   "name": "python",
   "nbconvert_exporter": "python",
   "pygments_lexer": "ipython2",
   "version": "2.7.11"
  }
 },
 "nbformat": 4,
 "nbformat_minor": 0
}
