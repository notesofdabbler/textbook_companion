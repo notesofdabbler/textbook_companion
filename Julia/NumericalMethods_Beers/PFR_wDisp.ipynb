{
 "cells": [
  {
   "cell_type": "code",
   "execution_count": 1,
   "metadata": {
    "collapsed": false
   },
   "outputs": [
    {
     "name": "stderr",
     "output_type": "stream",
     "text": [
      "INFO: Precompiling module Sundials.\n",
      "WARNING: Method definition (::Type{DiffEqBase.DiscreteTestProblem})(Any, Any, Any) in module DiffEqBase at /Users/shanki/.julia/v0.5/DiffEqBase/src/problems/discrete_problems.jl:19 overwritten at /Users/shanki/.julia/v0.5/DiffEqBase/src/problems/discrete_problems.jl:33.\n"
     ]
    }
   ],
   "source": [
    "using Sundials"
   ]
  },
  {
   "cell_type": "code",
   "execution_count": 5,
   "metadata": {
    "collapsed": false
   },
   "outputs": [
    {
     "data": {
      "text/plain": [
       "1.0e-5"
      ]
     },
     "execution_count": 5,
     "metadata": {},
     "output_type": "execute_result"
    }
   ],
   "source": [
    "#\n",
    "#  PFR with dispersion and rxn\n",
    "#  Rxn: A + B -> C, B + C - > D\n",
    "#\n",
    "\n",
    "\n",
    "L = 10 # length\n",
    "vz = 1 # velocity\n",
    "D = 1.0e-4 # dispersion coefficient\n",
    "\n",
    "# Reaction moddel parameters\n",
    "k1 = 1.0\n",
    "k2 = 1.0\n",
    "\n",
    "# inlet concentrations\n",
    "ca0 = 1.0\n",
    "cb0 = 1.0\n",
    "cc0 = 0.0\n",
    "cd0 = 0.0\n",
    "\n",
    "D_uL = D/(vz * L)"
   ]
  },
  {
   "cell_type": "code",
   "execution_count": 59,
   "metadata": {
    "collapsed": false
   },
   "outputs": [
    {
     "data": {
      "text/plain": [
       "disprxn4 (generic function with 1 method)"
      ]
     },
     "execution_count": 59,
     "metadata": {},
     "output_type": "execute_result"
    }
   ],
   "source": [
    "function disprxn4(t, c, dc)\n",
    "\n",
    "  D_uL = 1.0e-5\n",
    "  nc = 4\n",
    "  ngrid = 10000\n",
    "  c0 = [1.0;1.0;0.0;0.0]\n",
    "\n",
    "  dz = 1/(ngrid+1)\n",
    "\n",
    "  Peloc = dz/D_uL\n",
    "\n",
    "  alpha_lo = 1.0/dz + D_uL/dz^2\n",
    "  alpha_mid = -1.0/dz - 2.0 * D_uL/dz^2\n",
    "  alpha_hi = D_uL/dz^2\n",
    "\n",
    "  dconc = zeros(ngrid, nc)\n",
    "  conc = zeros(ngrid, nc)\n",
    "\n",
    "  k = 0\n",
    "  for i in 1:ngrid\n",
    "    for j in 1:nc\n",
    "      k = k + 1\n",
    "      conc[i,j] = c[k]\n",
    "    end\n",
    "  end\n",
    "\n",
    "  for i in 2:(ngrid-1)\n",
    "    for j in 1:nc\n",
    "      dconc[i,j] = alpha_lo * conc[i-1,j] + alpha_mid * conc[i,j] + alpha_hi * conc[i+1,j]\n",
    "    end\n",
    "  end\n",
    "\n",
    "  for j in 1:nc\n",
    "    dconc[1,j] = (alpha_mid + alpha_lo/(1.0+Peloc)) * conc[1,j] + alpha_lo * Peloc * c0[j]/(1 + Peloc) + alpha_hi * conc[2,j]\n",
    "  end\n",
    "\n",
    "  for j in 1:nc\n",
    "    dconc[ngrid,j] = alpha_lo * conc[ngrid - 1,j] + (alpha_mid + alpha_hi) * conc[ngrid, j]\n",
    "  end\n",
    "\n",
    "  k = 0\n",
    "  for i in 1:ngrid\n",
    "    for j in 1:nc\n",
    "      k = k + 1\n",
    "      dc[k] = dconc[i,j]\n",
    "    end\n",
    "  end\n",
    "\n",
    "\n",
    "end\n"
   ]
  },
  {
   "cell_type": "code",
   "execution_count": 60,
   "metadata": {
    "collapsed": false
   },
   "outputs": [
    {
     "data": {
      "text/plain": [
       "31-element Array{Float64,1}:\n",
       " 0.0\n",
       " 0.1\n",
       " 0.2\n",
       " 0.3\n",
       " 0.4\n",
       " 0.5\n",
       " 0.6\n",
       " 0.7\n",
       " 0.8\n",
       " 0.9\n",
       " 1.0\n",
       " 1.1\n",
       " 1.2\n",
       " ⋮  \n",
       " 1.9\n",
       " 2.0\n",
       " 2.1\n",
       " 2.2\n",
       " 2.3\n",
       " 2.4\n",
       " 2.5\n",
       " 2.6\n",
       " 2.7\n",
       " 2.8\n",
       " 2.9\n",
       " 3.0"
      ]
     },
     "execution_count": 60,
     "metadata": {},
     "output_type": "execute_result"
    }
   ],
   "source": [
    "cinit = zeros(40000)\n",
    "tspan = collect(0.0:0.1:3.0)"
   ]
  },
  {
   "cell_type": "code",
   "execution_count": null,
   "metadata": {
    "collapsed": false
   },
   "outputs": [],
   "source": [
    "res = Sundials.cvode(disprxn4, cinit, tspan)"
   ]
  },
  {
   "cell_type": "code",
   "execution_count": 50,
   "metadata": {
    "collapsed": false
   },
   "outputs": [],
   "source": [
    "using Plots"
   ]
  },
  {
   "cell_type": "code",
   "execution_count": 58,
   "metadata": {
    "collapsed": false
   },
   "outputs": [
    {
     "data": {
      "text/html": [
       "<div id=\"77412895-d41c-4f0c-9e19-076836331fea\" class=\"plotly-graph-div\"></div>\n",
       "\n",
       "<script>\n",
       "    window.PLOTLYENV=window.PLOTLYENV || {};\n",
       "    window.PLOTLYENV.BASE_URL=\"https://plot.ly\";\n",
       "    require(['plotly'], function(Plotly) {\n",
       "        Plotly.newPlot('77412895-d41c-4f0c-9e19-076836331fea', [{\"yaxis\":\"y\",\"y\":[0.0,9.454360787221818e-49,8.636056867594283e-31,2.8486257999475977e-21,2.959280370166592e-14,1.327206445031721e-9,2.775508618812237e-6,0.0006045405641871206,0.02143587897161239,0.18300827256851498,0.5540690699991063,0.8624497975529292,0.9794015086722241,0.9974333032047565,1.0006713597471066,1.0025128138440382,0.9988105385326236,0.9999861217595961,1.000802140783312,0.999230551205507,0.9999925817917125,1.0008468647210533,1.000254150563402,0.9996551820150725,0.9996337637789827,0.9999033561151704,1.0000451762080431,1.0000706850202017,1.000034716275447,1.0000286817611086,1.0000226472467701],\"showlegend\":true,\"name\":\"y1\",\"type\":\"scatter\",\"xaxis\":\"x\",\"line\":{\"width\":1,\"dash\":\"solid\",\"color\":\"rgba(0, 154, 250, 1.000)\",\"shape\":\"linear\"},\"x\":[0.0,0.1,0.2,0.3,0.4,0.5,0.6,0.7,0.8,0.9,1.0,1.1,1.2,1.3,1.4,1.5,1.6,1.7,1.8,1.9,2.0,2.1,2.2,2.3,2.4,2.5,2.6,2.7,2.8,2.9,3.0],\"mode\":\"lines\"}],\n",
       "               {\"yaxis\":{\"type\":\"-\",\"titlefont\":{\"size\":15,\"color\":\"rgba(0, 0, 0, 1.000)\",\"family\":\"sans-serif\"},\"title\":\"\",\"tickfont\":{\"size\":11,\"color\":\"rgba(0, 0, 0, 1.000)\",\"family\":\"sans-serif\"},\"ticks\":\"inside\",\"tickmode\":\"array\",\"showgrid\":true,\"tickvals\":[0.0,0.2,0.4,0.6000000000000001,0.8,1.0],\"domain\":[0.03762029746281716,0.9901574803149606],\"ticktext\":[\"0.0\",\"0.2\",\"0.4\",\"0.6\",\"0.8\",\"1.0\"],\"tickangle\":0,\"zeroline\":false,\"linecolor\":\"rgba(0, 0, 0, 1.000)\",\"tickcolor\":\"rgba(0, 0, 0, 1.000)\",\"anchor\":\"x\"},\"annotations\":[],\"width\":600,\"plot_bgcolor\":\"rgba(255, 255, 255, 1.000)\",\"showlegend\":true,\"legend\":{\"bgcolor\":\"rgba(255, 255, 255, 1.000)\",\"y\":1.0,\"font\":{\"size\":11,\"color\":\"rgba(0, 0, 0, 1.000)\",\"family\":\"sans-serif\"},\"bordercolor\":\"rgba(0, 0, 0, 1.000)\",\"x\":1.0},\"xaxis\":{\"type\":\"-\",\"titlefont\":{\"size\":15,\"color\":\"rgba(0, 0, 0, 1.000)\",\"family\":\"sans-serif\"},\"title\":\"\",\"tickfont\":{\"size\":11,\"color\":\"rgba(0, 0, 0, 1.000)\",\"family\":\"sans-serif\"},\"ticks\":\"inside\",\"tickmode\":\"array\",\"showgrid\":true,\"tickvals\":[0.0,0.5,1.0,1.5,2.0,2.5,3.0],\"domain\":[0.05100612423447069,0.9934383202099737],\"ticktext\":[\"0.0\",\"0.5\",\"1.0\",\"1.5\",\"2.0\",\"2.5\",\"3.0\"],\"tickangle\":0,\"zeroline\":false,\"linecolor\":\"rgba(0, 0, 0, 1.000)\",\"tickcolor\":\"rgba(0, 0, 0, 1.000)\",\"anchor\":\"y\"},\"paper_bgcolor\":\"rgba(255, 255, 255, 1.000)\",\"margin\":{\"r\":0,\"l\":0,\"b\":0,\"t\":20},\"height\":400}, {showLink: false});\n",
       "\n",
       "    });\n",
       " </script>\n"
      ]
     },
     "execution_count": 58,
     "metadata": {},
     "output_type": "execute_result"
    }
   ],
   "source": [
    "plot(tspan,res[:,397])"
   ]
  },
  {
   "cell_type": "code",
   "execution_count": null,
   "metadata": {
    "collapsed": true
   },
   "outputs": [],
   "source": []
  }
 ],
 "metadata": {
  "kernelspec": {
   "display_name": "Julia 0.5.0",
   "language": "julia",
   "name": "julia-0.5"
  },
  "language_info": {
   "file_extension": ".jl",
   "mimetype": "application/julia",
   "name": "julia",
   "version": "0.5.0"
  }
 },
 "nbformat": 4,
 "nbformat_minor": 0
}
