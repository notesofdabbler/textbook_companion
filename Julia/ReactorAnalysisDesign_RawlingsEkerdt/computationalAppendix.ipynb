{
 "cells": [
  {
   "cell_type": "markdown",
   "metadata": {},
   "source": [
    "# Computational Appendix\n",
    "\n",
    "This notebook is an attempt at creating Julia version of codes in the [computational appendix](http://jbrwww.che.wisc.edu/home/jbraw/chemreacfun/web-appendix.pdf) of the book [Chemical Reactor Analysis and Design by Rawlings and Ekerdt](http://jbrwww.che.wisc.edu/home/jbraw/chemreacfun/)"
   ]
  },
  {
   "cell_type": "code",
   "execution_count": 1,
   "metadata": {
    "collapsed": true
   },
   "outputs": [],
   "source": [
    "using Gadfly"
   ]
  },
  {
   "cell_type": "markdown",
   "metadata": {},
   "source": [
    "## A.1 Linear Algebra and Least Squares"
   ]
  },
  {
   "cell_type": "code",
   "execution_count": 2,
   "metadata": {
    "collapsed": false
   },
   "outputs": [
    {
     "data": {
      "text/plain": [
       "3×6 Array{Int64,2}:\n",
       "  0  1   0  -1  -1  1\n",
       " -1  1   1  -1   0  0\n",
       "  1  0  -1   0  -1  1"
      ]
     },
     "execution_count": 2,
     "metadata": {},
     "output_type": "execute_result"
    }
   ],
   "source": [
    "stoi = [0 1 0 -1 -1 1;\n",
    "        -1 1 1 -1 0 0;\n",
    "         1 0 -1 0 -1 1]"
   ]
  },
  {
   "cell_type": "code",
   "execution_count": 3,
   "metadata": {
    "collapsed": false
   },
   "outputs": [
    {
     "data": {
      "text/plain": [
       "2"
      ]
     },
     "execution_count": 3,
     "metadata": {},
     "output_type": "execute_result"
    }
   ],
   "source": [
    "rank(stoi)"
   ]
  },
  {
   "cell_type": "code",
   "execution_count": 4,
   "metadata": {
    "collapsed": false
   },
   "outputs": [
    {
     "data": {
      "text/plain": [
       "3-element Array{Int64,1}:\n",
       " 1\n",
       " 2\n",
       " 3"
      ]
     },
     "execution_count": 4,
     "metadata": {},
     "output_type": "execute_result"
    }
   ],
   "source": [
    "r = [1;2;3]"
   ]
  },
  {
   "cell_type": "code",
   "execution_count": 5,
   "metadata": {
    "collapsed": false
   },
   "outputs": [
    {
     "data": {
      "text/plain": [
       "6-element Array{Int64,1}:\n",
       "  1\n",
       "  3\n",
       " -1\n",
       " -3\n",
       " -4\n",
       "  4"
      ]
     },
     "execution_count": 5,
     "metadata": {},
     "output_type": "execute_result"
    }
   ],
   "source": [
    "R = stoi' * r"
   ]
  },
  {
   "cell_type": "markdown",
   "metadata": {},
   "source": [
    "### Example A.1"
   ]
  },
  {
   "cell_type": "code",
   "execution_count": 6,
   "metadata": {
    "collapsed": false
   },
   "outputs": [
    {
     "data": {
      "text/plain": [
       "2×6 Array{Int64,2}:\n",
       "  0  1  0  -1  -1  1\n",
       " -1  1  1  -1   0  0"
      ]
     },
     "execution_count": 6,
     "metadata": {},
     "output_type": "execute_result"
    }
   ],
   "source": [
    "stoi = [0 1 0 -1 -1 1; -1 1 1 -1 0 0]"
   ]
  },
  {
   "cell_type": "code",
   "execution_count": 7,
   "metadata": {
    "collapsed": false
   },
   "outputs": [
    {
     "data": {
      "text/plain": [
       "(2,6)"
      ]
     },
     "execution_count": 7,
     "metadata": {},
     "output_type": "execute_result"
    }
   ],
   "source": [
    "nr, nspec = size(stoi)"
   ]
  },
  {
   "cell_type": "code",
   "execution_count": 8,
   "metadata": {
    "collapsed": false
   },
   "outputs": [
    {
     "data": {
      "text/plain": [
       "2-element Array{Int64,1}:\n",
       " 1\n",
       " 2"
      ]
     },
     "execution_count": 8,
     "metadata": {},
     "output_type": "execute_result"
    }
   ],
   "source": [
    "r = [1;2]"
   ]
  },
  {
   "cell_type": "code",
   "execution_count": 9,
   "metadata": {
    "collapsed": false
   },
   "outputs": [
    {
     "data": {
      "text/plain": [
       "6-element Array{Int64,1}:\n",
       " -2\n",
       "  3\n",
       "  2\n",
       " -3\n",
       " -1\n",
       "  1"
      ]
     },
     "execution_count": 9,
     "metadata": {},
     "output_type": "execute_result"
    }
   ],
   "source": [
    "R = stoi' * r"
   ]
  },
  {
   "cell_type": "code",
   "execution_count": 10,
   "metadata": {
    "collapsed": false
   },
   "outputs": [],
   "source": [
    "nmeas = 2000\n",
    "R_meas = zeros(nspec,nmeas)\n",
    "for i in 1:nmeas\n",
    "    R_meas[:,i] = 0.05 * randn(nspec) + R ;\n",
    "end"
   ]
  },
  {
   "cell_type": "code",
   "execution_count": 11,
   "metadata": {
    "collapsed": false
   },
   "outputs": [
    {
     "data": {
      "text/plain": [
       "6×2000 Array{Float64,2}:\n",
       " -2.0039    -1.91629   -2.0718   -1.95138  …  -1.95285   -2.02694   -1.93315\n",
       "  2.99482    3.07156    2.97288   2.95766      2.9316     3.00617    3.04766\n",
       "  2.03864    2.03632    1.98307   1.99051      1.95148    1.97101    1.98355\n",
       " -3.00012   -3.0198    -3.11866  -3.02951     -2.94884   -2.95559   -3.00638\n",
       " -1.02207   -1.01582   -1.07383  -1.01293     -0.994833  -0.994512  -1.06399\n",
       "  0.963977   0.885746   1.0049    1.02687  …   1.0222     0.980828   1.0557 "
      ]
     },
     "execution_count": 11,
     "metadata": {},
     "output_type": "execute_result"
    }
   ],
   "source": [
    "R_meas"
   ]
  },
  {
   "cell_type": "code",
   "execution_count": 12,
   "metadata": {
    "collapsed": false
   },
   "outputs": [
    {
     "data": {
      "text/plain": [
       "2×2000 Array{Float64,2}:\n",
       " 0.987417  0.990314  1.03235  1.02082  1.05987  …  1.00169  0.985749  1.06279\n",
       " 2.01566   2.01583   2.02043  1.97186  1.96021     1.94535  1.99705   1.96129"
      ]
     },
     "execution_count": 12,
     "metadata": {},
     "output_type": "execute_result"
    }
   ],
   "source": [
    "r_est = stoi' \\ R_meas"
   ]
  },
  {
   "cell_type": "code",
   "execution_count": 13,
   "metadata": {
    "collapsed": false
   },
   "outputs": [
    {
     "ename": "ErrorException",
     "evalue": "error compiling #call#112: error compiling Type: could not load library \"/Users/shanki/.julia/v0.5/Homebrew/deps/usr/lib/libpangocairo-1.0.dylib\"\ndlopen(/Users/shanki/.julia/v0.5/Homebrew/deps/usr/lib/libpangocairo-1.0.dylib, 1): Library not loaded: /Users/shanki/.julia/v0.5/Homebrew/deps/usr/opt/harfbuzz/lib/libharfbuzz.0.dylib\n  Referenced from: /Users/shanki/.julia/v0.5/Homebrew/deps/usr/lib/libpangocairo-1.0.dylib\n  Reason: image not found",
     "output_type": "error",
     "traceback": [
      "error compiling #call#112: error compiling Type: could not load library \"/Users/shanki/.julia/v0.5/Homebrew/deps/usr/lib/libpangocairo-1.0.dylib\"\ndlopen(/Users/shanki/.julia/v0.5/Homebrew/deps/usr/lib/libpangocairo-1.0.dylib, 1): Library not loaded: /Users/shanki/.julia/v0.5/Homebrew/deps/usr/opt/harfbuzz/lib/libharfbuzz.0.dylib\n  Referenced from: /Users/shanki/.julia/v0.5/Homebrew/deps/usr/lib/libpangocairo-1.0.dylib\n  Reason: image not found",
      "",
      " in Compose.Image{Compose.PNGBackend}(::IOContext{Base64EncodePipe}, ::Measures.Length{:mm,Float64}, ::Measures.Length{:mm,Float64}) at /Users/shanki/.julia/v0.5/Compose/src/cairo_backends.jl:140",
      " in limitstringmime(::MIME{Symbol(\"image/png\")}, ::Gadfly.Plot) at /Users/shanki/.julia/v0.5/IJulia/src/execute_request.jl:34",
      " in display_dict(::Gadfly.Plot) at /Users/shanki/.julia/v0.5/IJulia/src/execute_request.jl:51",
      " in execute_request(::ZMQ.Socket, ::IJulia.Msg) at /Users/shanki/.julia/v0.5/IJulia/src/execute_request.jl:200",
      " in eventloop(::ZMQ.Socket) at /Users/shanki/.julia/v0.5/IJulia/src/eventloop.jl:8",
      " in (::IJulia.##9#15)() at ./task.jl:360"
     ]
    }
   ],
   "source": [
    "plot(x = r_est[1,:], y = r_est[2,:], Guide.xlabel(\"r1\"), Guide.ylabel(\"r2\"))"
   ]
  },
  {
   "cell_type": "markdown",
   "metadata": {},
   "source": [
    "## A.2 Nonlinear Algebraic Equations"
   ]
  },
  {
   "cell_type": "code",
   "execution_count": 14,
   "metadata": {
    "collapsed": false
   },
   "outputs": [
    {
     "data": {
      "text/plain": [
       "dgdx! (generic function with 1 method)"
      ]
     },
     "execution_count": 14,
     "metadata": {},
     "output_type": "execute_result"
    }
   ],
   "source": [
    "function dgdx!(x, residual)\n",
    "    K1 = 108\n",
    "    K2 = 284\n",
    "    P = 2.5\n",
    "    yI0 = 0.5\n",
    "    yB0 = 0.5\n",
    "    yP10 = 0.0\n",
    "    yP20 = 0.0\n",
    "    d = 1 - x[1] - x[2]\n",
    "    yI = (yI0 - x[1] - x[2])/d\n",
    "    yB = (yB0 - x[1] - x[2])/d\n",
    "    yP1 = (yP10 + x[1])/d\n",
    "    yP2 = (yP20 + x[2])/d\n",
    "    \n",
    "    residual[1] = P*K1*yI*yB - yP1\n",
    "    residual[2] = P*K2*yI*yB - yP2\n",
    "    \n",
    "end"
   ]
  },
  {
   "cell_type": "code",
   "execution_count": 15,
   "metadata": {
    "collapsed": false
   },
   "outputs": [
    {
     "data": {
      "text/plain": [
       "2-element Array{Float64,1}:\n",
       " 0.2\n",
       " 0.2"
      ]
     },
     "execution_count": 15,
     "metadata": {},
     "output_type": "execute_result"
    }
   ],
   "source": [
    "# initial guess\n",
    "x0 = [0.2, 0.2]"
   ]
  },
  {
   "cell_type": "code",
   "execution_count": 16,
   "metadata": {
    "collapsed": false
   },
   "outputs": [],
   "source": [
    "using NLsolve"
   ]
  },
  {
   "cell_type": "code",
   "execution_count": 17,
   "metadata": {
    "collapsed": false
   },
   "outputs": [
    {
     "name": "stderr",
     "output_type": "stream",
     "text": [
      "WARNING: slice is deprecated, use view instead.\n",
      " in depwarn(::String, ::Symbol) at ./deprecated.jl:64\n",
      " in slice(::Array{Float64,2}, ::Vararg{Any,N}) at ./deprecated.jl:30\n",
      " in sumabs2j at /Users/shanki/.julia/v0.5/NLsolve/src/utils.jl:1 [inlined]\n",
      " in trust_region_(::NLsolve.DifferentiableMultivariateFunction, ::Array{Float64,1}, ::Float64, ::Float64, ::Int64, ::Bool, ::Bool, ::Bool, ::Float64, ::Bool) at /Users/shanki/.julia/v0.5/NLsolve/src/trust_region.jl:105\n",
      " in #nlsolve#17(::Symbol, ::Float64, ::Float64, ::Int64, ::Bool, ::Bool, ::Bool, ::Function, ::Float64, ::Bool, ::NLsolve.#nlsolve, ::NLsolve.DifferentiableMultivariateFunction, ::Array{Float64,1}) at /Users/shanki/.julia/v0.5/NLsolve/src/nlsolve_func_defs.jl:24\n",
      " in (::NLsolve.#kw##nlsolve)(::Array{Any,1}, ::NLsolve.#nlsolve, ::NLsolve.DifferentiableMultivariateFunction, ::Array{Float64,1}) at ./<missing>:0\n",
      " in #nlsolve#19(::Symbol, ::Float64, ::Float64, ::Int64, ::Bool, ::Bool, ::Bool, ::Function, ::Float64, ::Bool, ::Bool, ::NLsolve.#nlsolve, ::#dgdx!, ::Array{Float64,1}) at /Users/shanki/.julia/v0.5/NLsolve/src/nlsolve_func_defs.jl:70\n",
      " in nlsolve(::Function, ::Array{Float64,1}) at /Users/shanki/.julia/v0.5/NLsolve/src/nlsolve_func_defs.jl:65\n",
      " in include_string(::String, ::String) at ./loading.jl:441\n",
      " in execute_request(::ZMQ.Socket, ::IJulia.Msg) at /Users/shanki/.julia/v0.5/IJulia/src/execute_request.jl:169\n",
      " in eventloop(::ZMQ.Socket) at /Users/shanki/.julia/v0.5/IJulia/src/eventloop.jl:8\n",
      " in (::IJulia.##9#15)() at ./task.jl:360\n",
      "while loading In[17], in expression starting on line 1\n",
      "WARNING: slice is deprecated, use view instead.\n",
      " in depwarn(::String, ::Symbol) at ./deprecated.jl:64\n",
      " in slice(::Array{Float64,2}, ::Vararg{Any,N}) at ./deprecated.jl:30\n",
      " in sumabs2j at /Users/shanki/.julia/v0.5/NLsolve/src/utils.jl:1 [inlined]\n",
      " in trust_region_(::NLsolve.DifferentiableMultivariateFunction, ::Array{Float64,1}, ::Float64, ::Float64, ::Int64, ::Bool, ::Bool, ::Bool, ::Float64, ::Bool) at /Users/shanki/.julia/v0.5/NLsolve/src/trust_region.jl:145\n",
      " in #nlsolve#17(::Symbol, ::Float64, ::Float64, ::Int64, ::Bool, ::Bool, ::Bool, ::Function, ::Float64, ::Bool, ::NLsolve.#nlsolve, ::NLsolve.DifferentiableMultivariateFunction, ::Array{Float64,1}) at /Users/shanki/.julia/v0.5/NLsolve/src/nlsolve_func_defs.jl:24\n",
      " in (::NLsolve.#kw##nlsolve)(::Array{Any,1}, ::NLsolve.#nlsolve, ::NLsolve.DifferentiableMultivariateFunction, ::Array{Float64,1}) at ./<missing>:0\n",
      " in #nlsolve#19(::Symbol, ::Float64, ::Float64, ::Int64, ::Bool, ::Bool, ::Bool, ::Function, ::Float64, ::Bool, ::Bool, ::NLsolve.#nlsolve, ::#dgdx!, ::Array{Float64,1}) at /Users/shanki/.julia/v0.5/NLsolve/src/nlsolve_func_defs.jl:70\n",
      " in nlsolve(::Function, ::Array{Float64,1}) at /Users/shanki/.julia/v0.5/NLsolve/src/nlsolve_func_defs.jl:65\n",
      " in include_string(::String, ::String) at ./loading.jl:441\n",
      " in execute_request(::ZMQ.Socket, ::IJulia.Msg) at /Users/shanki/.julia/v0.5/IJulia/src/execute_request.jl:169\n",
      " in eventloop(::ZMQ.Socket) at /Users/shanki/.julia/v0.5/IJulia/src/eventloop.jl:8\n",
      " in (::IJulia.##9#15)() at ./task.jl:360\n",
      "while loading In[17], in expression starting on line 1\n"
     ]
    },
    {
     "data": {
      "text/plain": [
       "Results of Nonlinear Solver Algorithm\n",
       " * Algorithm: Trust-region with dogleg and autoscaling\n",
       " * Starting Point: [0.2,0.2]\n",
       " * Zero: [0.133357,0.350679]\n",
       " * Inf-norm of residuals: 0.000000\n",
       " * Iterations: 6\n",
       " * Convergence: true\n",
       "   * |x - x'| < 0.0e+00: false\n",
       "   * |f(x)| < 1.0e-08: true\n",
       " * Function Calls (f): 7\n",
       " * Jacobian Calls (df/dx): 7"
      ]
     },
     "execution_count": 17,
     "metadata": {},
     "output_type": "execute_result"
    }
   ],
   "source": [
    "nlsolve(dgdx!,x0)"
   ]
  },
  {
   "cell_type": "code",
   "execution_count": 18,
   "metadata": {
    "collapsed": true
   },
   "outputs": [],
   "source": [
    "using Sundials"
   ]
  },
  {
   "cell_type": "code",
   "execution_count": 19,
   "metadata": {
    "collapsed": false
   },
   "outputs": [
    {
     "data": {
      "text/plain": [
       "2-element Array{Float64,1}:\n",
       " 0.133357\n",
       " 0.350679"
      ]
     },
     "execution_count": 19,
     "metadata": {},
     "output_type": "execute_result"
    }
   ],
   "source": [
    "res = Sundials.kinsol(dgdx!, x0)"
   ]
  },
  {
   "cell_type": "code",
   "execution_count": 20,
   "metadata": {
    "collapsed": false
   },
   "outputs": [],
   "source": [
    "using Ipopt"
   ]
  },
  {
   "cell_type": "code",
   "execution_count": 21,
   "metadata": {
    "collapsed": false
   },
   "outputs": [
    {
     "data": {
      "text/plain": [
       "gibbs (generic function with 1 method)"
      ]
     },
     "execution_count": 21,
     "metadata": {},
     "output_type": "execute_result"
    }
   ],
   "source": [
    "function gibbs(x) \n",
    "    \n",
    "    K1 = 108.0\n",
    "    K2 = 284.0\n",
    "    P = 2.5\n",
    "    yI0 = 0.5\n",
    "    yB0 = 0.5\n",
    "    yP10 = 0.0\n",
    "    yP20 = 0.0\n",
    "    d = 1 - x[1] - x[2]\n",
    "    yI = (yI0 - x[1] - x[2])/d\n",
    "    yB = (yB0 - x[1] - x[2])/d\n",
    "    yP1 = (yP10 + x[1])/d\n",
    "    yP2 = (yP20 + x[2])/d\n",
    "    \n",
    "    gibbsval = -(x[1]*log(K1)+x[2]*log(K2))+(1.0-x[1]-x[2])*log(P)+yB*d*log(yB)+yP1*d*log(yP1)+yP2*d*log(yP2)+yI*d*log(yI)\n",
    "    \n",
    "#    println(x,\" \",gibbsval)\n",
    "    return gibbsval\n",
    "end"
   ]
  },
  {
   "cell_type": "code",
   "execution_count": 22,
   "metadata": {
    "collapsed": false
   },
   "outputs": [
    {
     "data": {
      "text/plain": [
       "gibbs_grad (generic function with 1 method)"
      ]
     },
     "execution_count": 22,
     "metadata": {},
     "output_type": "execute_result"
    }
   ],
   "source": [
    "function gibbs_grad(x, grad_f)\n",
    "    \n",
    "    K1 = 108.0\n",
    "    K2 = 284.0\n",
    "    P = 2.5\n",
    "    yI0 = 0.5\n",
    "    yB0 = 0.5\n",
    "    yP10 = 0.0\n",
    "    yP20 = 0.0\n",
    "    d = 1 - x[1] - x[2]\n",
    "    yI = (yI0 - x[1] - x[2])/d\n",
    "    yB = (yB0 - x[1] - x[2])/d\n",
    "    yP1 = (yP10 + x[1])/d\n",
    "    yP2 = (yP20 + x[2])/d\n",
    "    \n",
    "    grad_f[1] = -log(K1)-log(P)-log(yI)+d*(-1.0/d+yI/d)-log(yB)+d*(-1.0/d+yB/d)+log(yP1)+d*(1.0/d+yP1/d)+d*(yP2/d)\n",
    "    grad_f[2] = -log(K2)-log(P)-log(yI)+d*(-1.0/d+yI/d)-log(yB)+d*(-1.0/d+yB/d)+d*(yP1/d)+log(yP2)+d*(1.0/d+yP2/d)\n",
    "    println(\"manual gradient\")\n",
    "    println(grad_f)\n",
    "    println(\"ad version\")\n",
    "    println(ForwardDiff.gradient(gibbs,x))\n",
    "end  "
   ]
  },
  {
   "cell_type": "code",
   "execution_count": 23,
   "metadata": {
    "collapsed": false
   },
   "outputs": [
    {
     "data": {
      "text/plain": [
       "eval_cons (generic function with 1 method)"
      ]
     },
     "execution_count": 23,
     "metadata": {},
     "output_type": "execute_result"
    }
   ],
   "source": [
    "function eval_cons(x, g)\n",
    "    g[1] = -x[1] - x[2]\n",
    "end"
   ]
  },
  {
   "cell_type": "code",
   "execution_count": 24,
   "metadata": {
    "collapsed": false
   },
   "outputs": [
    {
     "data": {
      "text/plain": [
       "eval_jac_cons (generic function with 1 method)"
      ]
     },
     "execution_count": 24,
     "metadata": {},
     "output_type": "execute_result"
    }
   ],
   "source": [
    "function eval_jac_cons(x, mode, rows, cols, values)\n",
    "    if mode == :Structure\n",
    "        rows[1] = 1; cols[1] = 1\n",
    "        rows[2] = 1; cols[2] = 2\n",
    "    else\n",
    "        values[1] = -1.0\n",
    "        values[2] = -1.0\n",
    "    end\n",
    "end"
   ]
  },
  {
   "cell_type": "code",
   "execution_count": 25,
   "metadata": {
    "collapsed": false
   },
   "outputs": [
    {
     "data": {
      "text/plain": [
       "eval_hess (generic function with 1 method)"
      ]
     },
     "execution_count": 25,
     "metadata": {},
     "output_type": "execute_result"
    }
   ],
   "source": [
    "function eval_hess(x, mode, rows, cols, obj_factor, lambda, values)\n",
    "    \n",
    "    K1 = 108.0\n",
    "    K2 = 284.0\n",
    "    P = 2.5\n",
    "    yI0 = 0.5\n",
    "    yB0 = 0.5\n",
    "    yP10 = 0.0\n",
    "    yP20 = 0.0\n",
    "    d = 1 - x[1] - x[2]\n",
    "    yI = (yI0 - x[1] - x[2])/d\n",
    "    yB = (yB0 - x[1] - x[2])/d\n",
    "    yP1 = (yP10 + x[1])/d\n",
    "    yP2 = (yP20 + x[2])/d    \n",
    "    \n",
    "    h00 = (-1.0/yI)*(-1.0/d+yI/d)-1.0/d+yI/d-(1.0/yB)*(-1.0/d+yB/d)-1.0/d+yB/d+(1.0/yP1)*(1.0/d+yP1/d)+(1.0/d+yP1/d)+yP2/d \n",
    "    h10 = (-1.0/yI)*(-1.0/d+yI/d)-1.0/d+yI/d-(1.0/yB)*(-1.0/d+yB/d)-1.0/d+yB/d+(1.0/yP1)*(yP1/d)+yP1/d+1.0/d+yP2/d \n",
    "    h11 = (-1.0/yI)*(-1.0/d+yI/d)-1.0/d+yI/d-(1.0/yB)*(-1.0/d+yB/d)-1.0/d+yB/d+yP1/d+(1.0/yP2)*(1.0/d+yP2/d)+(1.0/d+yP2/d)\n",
    "    \n",
    "    if mode == :Structure\n",
    "        idx = 1\n",
    "        for row = 1:2\n",
    "            for col = 1:row\n",
    "                rows[idx] = row\n",
    "                cols[idx] = col\n",
    "                idx += 1\n",
    "            end\n",
    "        end\n",
    "    else\n",
    "        values[1] = obj_factor*h00\n",
    "        values[2] = obj_factor*h10\n",
    "        values[3] = obj_factor*h11\n",
    "    end\n",
    "end"
   ]
  },
  {
   "cell_type": "code",
   "execution_count": 26,
   "metadata": {
    "collapsed": false
   },
   "outputs": [
    {
     "data": {
      "text/plain": [
       "gibbs_grad_ad (generic function with 1 method)"
      ]
     },
     "execution_count": 26,
     "metadata": {},
     "output_type": "execute_result"
    }
   ],
   "source": [
    "function gibbs_grad_ad(x, grad_f)\n",
    "    \n",
    "    tmp = ForwardDiff.gradient(gibbs,x)\n",
    "    grad_f[1] = tmp[1]\n",
    "    grad_f[2] = tmp[2]\n",
    "    println(grad_f)\n",
    "end  "
   ]
  },
  {
   "cell_type": "code",
   "execution_count": 27,
   "metadata": {
    "collapsed": false
   },
   "outputs": [
    {
     "data": {
      "text/plain": [
       "eval_hess_ad (generic function with 1 method)"
      ]
     },
     "execution_count": 27,
     "metadata": {},
     "output_type": "execute_result"
    }
   ],
   "source": [
    "function eval_hess_ad(x, mode, rows, cols, obj_factor, lambda, values)   \n",
    "    if mode == :Structure\n",
    "        idx = 1\n",
    "        for row = 1:2\n",
    "            for col = 1:row\n",
    "                rows[idx] = row\n",
    "                cols[idx] = col\n",
    "                idx += 1\n",
    "            end\n",
    "        end\n",
    "    else\n",
    "        hess = ForwardDiff.hessian(gibbs,x)\n",
    "        #println(hess)\n",
    "        values[1] = obj_factor*hess[1,1]\n",
    "        values[2] = obj_factor*hess[2,1]\n",
    "        values[3] = obj_factor*hess[2,2]\n",
    "    end\n",
    "end"
   ]
  },
  {
   "cell_type": "code",
   "execution_count": 28,
   "metadata": {
    "collapsed": false
   },
   "outputs": [
    {
     "data": {
      "text/plain": [
       "3"
      ]
     },
     "execution_count": 28,
     "metadata": {},
     "output_type": "execute_result"
    }
   ],
   "source": [
    "n = 2\n",
    "m = 1\n",
    "x_L = [0.0, 0.0]\n",
    "x_U = [0.5, 0.5]\n",
    "g_L = [-0.499]\n",
    "g_U = [0.0]\n",
    "nnz_jac = m*n\n",
    "nnz_hes = 3"
   ]
  },
  {
   "cell_type": "code",
   "execution_count": 29,
   "metadata": {
    "collapsed": false
   },
   "outputs": [
    {
     "data": {
      "text/plain": [
       "Ipopt.IpoptProblem(Ptr{Void} @0x00007fb896fc5d70,2,1,[0.0,0.0],[0.0],[0.0],[0.0,0.0],[0.0,0.0],0.0,0,gibbs,eval_cons,gibbs_grad,eval_jac_cons,eval_hess,nothing,:Min)"
      ]
     },
     "execution_count": 29,
     "metadata": {},
     "output_type": "execute_result"
    }
   ],
   "source": [
    "prob = createProblem(n, x_L, x_U, m, g_L, g_U, nnz_jac, nnz_hes,\n",
    "gibbs, eval_cons, gibbs_grad, eval_jac_cons, eval_hess)"
   ]
  },
  {
   "cell_type": "code",
   "execution_count": 30,
   "metadata": {
    "collapsed": false
   },
   "outputs": [
    {
     "name": "stdout",
     "output_type": "stream",
     "text": [
      "manual gradient\n",
      "[-3.11352,-4.08036]\n",
      "ad version\n",
      "[-3.11352,-4.08036]\n",
      "manual gradient\n",
      "[-3.11352,-4.08036]\n",
      "ad version\n",
      "[-3.11352,-4.08036]\n",
      "\n",
      "******************************************************************************\n",
      "This program contains Ipopt, a library for large-scale nonlinear optimization.\n",
      " Ipopt is released as open source code under the Eclipse Public License (EPL).\n",
      "         For more information visit http://projects.coin-or.org/Ipopt\n",
      "******************************************************************************\n",
      "\n",
      "This is Ipopt version 3.12.4, running with linear solver mumps.\n",
      "NOTE: Other linear solvers might be more efficient (see Ipopt documentation).\n",
      "\n",
      "Number of nonzeros in equality constraint Jacobian...:        0\n",
      "Number of nonzeros in inequality constraint Jacobian.:        2\n",
      "Number of nonzeros in Lagrangian Hessian.............:        3\n",
      "\n",
      "Total number of variables............................:        2\n",
      "                     variables with only lower bounds:        0\n",
      "                variables with lower and upper bounds:        2\n",
      "                     variables with only upper bounds:        0\n",
      "Total number of equality constraints.................:        0\n",
      "Total number of inequality constraints...............:        1\n",
      "        inequality constraints with only lower bounds:        0\n",
      "   inequality constraints with lower and upper bounds:        1\n",
      "        inequality constraints with only upper bounds:        0\n",
      "\n",
      "iter    objective    inf_pr   inf_du lg(mu)  ||d||  lg(rg) alpha_du alpha_pr  ls\n",
      "   0 -2.3142435e+00 0.00e+00 2.40e+00  -1.0 0.00e+00    -  0.00e+00 0.00e+00   0\n",
      "manual gradient\n",
      "[-0.0313998,-0.693695]\n",
      "ad version\n",
      "[-0.0313998,-0.693695]\n",
      "   1 -2.5339619e+00 0.00e+00 1.60e+00  -1.0 7.99e-02    -  1.00e+00 1.00e+00f  1\n",
      "manual gradient\n",
      "[-1.74047,-2.14108]\n",
      "ad version\n",
      "[-1.74047,-2.14108]\n",
      "   2 -2.5189971e+00 0.00e+00 7.82e-01  -1.0 3.84e-02    -  1.00e+00 1.00e+00f  1\n",
      "manual gradient\n",
      "[-1.1292,-1.36525]\n",
      "ad version\n",
      "[-1.1292,-1.36525]\n",
      "   3 -2.5462600e+00 0.00e+00 1.11e-01  -1.7 2.58e-02    -  1.00e+00 1.00e+00f  1\n",
      "manual gradient\n",
      "[-0.408297,-0.465778]\n",
      "ad version\n",
      "[-0.408297,-0.465778]\n",
      "   4 -2.5583259e+00 0.00e+00 1.52e-01  -2.5 2.53e-02    -  1.00e+00 1.00e+00f  1\n",
      "manual gradient\n",
      "[-0.187256,-0.211475]\n",
      "ad version\n",
      "[-0.187256,-0.211475]\n",
      "   5 -2.5592166e+00 0.00e+00 1.42e-02  -2.5 4.90e-03    -  1.00e+00 1.00e+00f  1\n",
      "manual gradient\n",
      "[-0.0201341,-0.0221383]\n",
      "ad version\n",
      "[-0.0201341,-0.0221383]\n",
      "   6 -2.5594219e+00 0.00e+00 8.07e-03  -3.8 3.27e-03    -  1.00e+00 1.00e+00f  1\n",
      "manual gradient\n",
      "[-0.00905794,-0.0103521]\n",
      "ad version\n",
      "[-0.00905794,-0.0103521]\n",
      "   7 -2.5594235e+00 0.00e+00 3.34e-05  -3.8 1.36e-04    -  1.00e+00 1.00e+00f  1\n",
      "manual gradient\n",
      "[-0.000138209,-0.000156325]\n",
      "ad version\n",
      "[-0.000138209,-0.000156325]\n",
      "   8 -2.5594240e+00 0.00e+00 2.40e-05  -5.7 1.80e-04    -  1.00e+00 1.00e+00f  1\n",
      "manual gradient\n",
      "[-0.000110671,-0.000126567]\n",
      "ad version\n",
      "[-0.000110671,-0.000126567]\n",
      "   9 -2.5594240e+00 0.00e+00 2.11e-10  -5.7 3.83e-07    -  1.00e+00 1.00e+00f  1\n",
      "manual gradient\n",
      "[-1.54528e-7,-1.76462e-7]\n",
      "ad version\n",
      "[-1.54528e-7,-1.76462e-7]\n",
      "iter    objective    inf_pr   inf_du lg(mu)  ||d||  lg(rg) alpha_du alpha_pr  ls\n",
      "  10 -2.5594240e+00 0.00e+00 3.69e-09  -8.6 2.24e-06    -  1.00e+00 1.00e+00f  1\n",
      "\n",
      "Number of Iterations....: 10\n",
      "\n",
      "                                   (scaled)                 (unscaled)\n",
      "Objective...............:  -2.5594239520773563e+00   -2.5594239520773563e+00\n",
      "Dual infeasibility......:   3.6922327517055817e-09    3.6922327517055817e-09\n",
      "Constraint violation....:   0.0000000000000000e+00    0.0000000000000000e+00\n",
      "Complementarity.........:   2.6256844436043017e-09    2.6256844436043017e-09\n",
      "Overall NLP error.......:   3.6922327517055817e-09    3.6922327517055817e-09\n",
      "\n",
      "\n",
      "Number of objective function evaluations             = 11\n",
      "Number of objective gradient evaluations             = 11\n",
      "Number of equality constraint evaluations            = 0\n",
      "Number of inequality constraint evaluations          = 11\n",
      "Number of equality constraint Jacobian evaluations   = 0\n",
      "Number of inequality constraint Jacobian evaluations = 11\n",
      "Number of Lagrangian Hessian evaluations             = 10\n",
      "Total CPU secs in IPOPT (w/o function evaluations)   =      0.718\n",
      "Total CPU secs in NLP function evaluations           =      0.015\n",
      "\n",
      "EXIT: Optimal Solution Found.\n"
     ]
    },
    {
     "data": {
      "text/plain": [
       "0"
      ]
     },
     "execution_count": 30,
     "metadata": {},
     "output_type": "execute_result"
    }
   ],
   "source": [
    "# Set starting solution\n",
    "prob.x = [0.2,0.2]\n",
    "\n",
    "#addOption(prob, \"hessian_approximation\", \"limited-memory\")\n",
    "\n",
    "# Solve\n",
    "status = solveProblem(prob)"
   ]
  },
  {
   "cell_type": "code",
   "execution_count": 31,
   "metadata": {
    "collapsed": false
   },
   "outputs": [
    {
     "data": {
      "text/plain": [
       "2-element Array{Float64,1}:\n",
       " 0.133357\n",
       " 0.350679"
      ]
     },
     "execution_count": 31,
     "metadata": {},
     "output_type": "execute_result"
    }
   ],
   "source": [
    "prob.x"
   ]
  },
  {
   "cell_type": "code",
   "execution_count": 32,
   "metadata": {
    "collapsed": false
   },
   "outputs": [
    {
     "data": {
      "text/plain": [
       "Ipopt.IpoptProblem(Ptr{Void} @0x00007fb895fd1010,2,1,[0.0,0.0],[0.0],[0.0],[0.0,0.0],[0.0,0.0],0.0,0,gibbs,eval_cons,gibbs_grad_ad,eval_jac_cons,eval_hess_ad,nothing,:Min)"
      ]
     },
     "execution_count": 32,
     "metadata": {},
     "output_type": "execute_result"
    }
   ],
   "source": [
    "prob_ad = createProblem(n, x_L, x_U, m, g_L, g_U, nnz_jac, nnz_hes, gibbs, eval_cons, \n",
    "gibbs_grad_ad, eval_jac_cons, eval_hess_ad)"
   ]
  },
  {
   "cell_type": "code",
   "execution_count": 33,
   "metadata": {
    "collapsed": false
   },
   "outputs": [
    {
     "name": "stdout",
     "output_type": "stream",
     "text": [
      "[-3.11352,-4.08036]\n",
      "[-3.11352,-4.08036]\n",
      "This is Ipopt version 3.12.4, running with linear solver mumps.\n",
      "NOTE: Other linear solvers might be more efficient (see Ipopt documentation).\n",
      "\n",
      "Number of nonzeros in equality constraint Jacobian...:        0\n",
      "Number of nonzeros in inequality constraint Jacobian.:        2\n",
      "Number of nonzeros in Lagrangian Hessian.............:        3\n",
      "\n",
      "Total number of variables............................:        2\n",
      "                     variables with only lower bounds:        0\n",
      "                variables with lower and upper bounds:        2\n",
      "                     variables with only upper bounds:        0\n",
      "Total number of equality constraints.................:        0\n",
      "Total number of inequality constraints...............:        1\n",
      "        inequality constraints with only lower bounds:        0\n",
      "   inequality constraints with lower and upper bounds:        1\n",
      "        inequality constraints with only upper bounds:        0\n",
      "\n",
      "iter    objective    inf_pr   inf_du lg(mu)  ||d||  lg(rg) alpha_du alpha_pr  ls\n",
      "   0 -2.3142435e+00 0.00e+00 2.40e+00  -1.0 0.00e+00    -  0.00e+00 0.00e+00   0\n",
      "[-0.0313998,-0.693695]\n",
      "   1 -2.5339619e+00 0.00e+00 1.60e+00  -1.0 7.99e-02    -  1.00e+00 1.00e+00f  1\n",
      "[-1.74047,-2.14108]\n",
      "   2 -2.5189971e+00 0.00e+00 7.82e-01  -1.0 3.84e-02    -  1.00e+00 1.00e+00f  1\n",
      "[-1.1292,-1.36525]\n",
      "   3 -2.5462600e+00 0.00e+00 1.11e-01  -1.7 2.58e-02    -  1.00e+00 1.00e+00f  1\n",
      "[-0.408297,-0.465778]\n",
      "   4 -2.5583259e+00 0.00e+00 1.52e-01  -2.5 2.53e-02    -  1.00e+00 1.00e+00f  1\n",
      "[-0.187256,-0.211475]\n",
      "   5 -2.5592166e+00 0.00e+00 1.42e-02  -2.5 4.90e-03    -  1.00e+00 1.00e+00f  1\n",
      "[-0.0201341,-0.0221383]\n",
      "   6 -2.5594219e+00 0.00e+00 8.07e-03  -3.8 3.27e-03    -  1.00e+00 1.00e+00f  1\n",
      "[-0.00905794,-0.0103521]\n",
      "   7 -2.5594235e+00 0.00e+00 3.34e-05  -3.8 1.36e-04    -  1.00e+00 1.00e+00f  1\n",
      "[-0.000138209,-0.000156325]\n",
      "   8 -2.5594240e+00 0.00e+00 2.40e-05  -5.7 1.80e-04    -  1.00e+00 1.00e+00f  1\n",
      "[-0.000110671,-0.000126567]\n",
      "   9 -2.5594240e+00 0.00e+00 2.11e-10  -5.7 3.83e-07    -  1.00e+00 1.00e+00f  1\n",
      "[-1.54528e-7,-1.76462e-7]\n",
      "iter    objective    inf_pr   inf_du lg(mu)  ||d||  lg(rg) alpha_du alpha_pr  ls\n",
      "  10 -2.5594240e+00 0.00e+00 3.69e-09  -8.6 2.24e-06    -  1.00e+00 1.00e+00f  1\n",
      "\n",
      "Number of Iterations....: 10\n",
      "\n",
      "                                   (scaled)                 (unscaled)\n",
      "Objective...............:  -2.5594239520773572e+00   -2.5594239520773572e+00\n",
      "Dual infeasibility......:   3.6922249801672792e-09    3.6922249801672792e-09\n",
      "Constraint violation....:   0.0000000000000000e+00    0.0000000000000000e+00\n",
      "Complementarity.........:   2.6256844436047074e-09    2.6256844436047074e-09\n",
      "Overall NLP error.......:   3.6922249801672792e-09    3.6922249801672792e-09\n",
      "\n",
      "\n",
      "Number of objective function evaluations             = 11\n",
      "Number of objective gradient evaluations             = 11\n",
      "Number of equality constraint evaluations            = 0\n",
      "Number of inequality constraint evaluations          = 11\n",
      "Number of equality constraint Jacobian evaluations   = 0\n",
      "Number of inequality constraint Jacobian evaluations = 11\n",
      "Number of Lagrangian Hessian evaluations             = 10\n",
      "Total CPU secs in IPOPT (w/o function evaluations)   =      0.121\n",
      "Total CPU secs in NLP function evaluations           =      0.967\n",
      "\n",
      "EXIT: Optimal Solution Found.\n"
     ]
    },
    {
     "data": {
      "text/plain": [
       "0"
      ]
     },
     "execution_count": 33,
     "metadata": {},
     "output_type": "execute_result"
    }
   ],
   "source": [
    "# Set starting solution\n",
    "prob_ad.x = [0.2,0.2]\n",
    "\n",
    "# Solve\n",
    "status = solveProblem(prob_ad)"
   ]
  },
  {
   "cell_type": "code",
   "execution_count": 34,
   "metadata": {
    "collapsed": false
   },
   "outputs": [
    {
     "data": {
      "text/plain": [
       "2-element Array{Float64,1}:\n",
       " 0.133357\n",
       " 0.350679"
      ]
     },
     "execution_count": 34,
     "metadata": {},
     "output_type": "execute_result"
    }
   ],
   "source": [
    "prob_ad.x"
   ]
  },
  {
   "cell_type": "code",
   "execution_count": 35,
   "metadata": {
    "collapsed": true
   },
   "outputs": [],
   "source": [
    "using NLopt"
   ]
  },
  {
   "cell_type": "code",
   "execution_count": 36,
   "metadata": {
    "collapsed": false
   },
   "outputs": [
    {
     "data": {
      "text/plain": [
       "gibbs_nlopt (generic function with 1 method)"
      ]
     },
     "execution_count": 36,
     "metadata": {},
     "output_type": "execute_result"
    }
   ],
   "source": [
    "function gibbs_nlopt(x::Vector, grad::Vector)\n",
    "    if length(grad) > 0\n",
    "        tmp = ForwardDiff.gradient(gibbs, x)\n",
    "        grad[1] = tmp[1]\n",
    "        grad[2] = tmp[2]\n",
    "    end\n",
    "\n",
    "    fval = gibbs(x) \n",
    "    \n",
    "    return fval\n",
    "end"
   ]
  },
  {
   "cell_type": "code",
   "execution_count": 37,
   "metadata": {
    "collapsed": false
   },
   "outputs": [
    {
     "data": {
      "text/plain": [
       "cons_nlopt (generic function with 1 method)"
      ]
     },
     "execution_count": 37,
     "metadata": {},
     "output_type": "execute_result"
    }
   ],
   "source": [
    "function cons_nlopt(x::Vector, grad::Vector)\n",
    "    if length(grad) > 0\n",
    "        grad[1] = 1.0\n",
    "        grad[2] = 1.0\n",
    "    end\n",
    "    x[1] + x[2] - 0.499\n",
    "end"
   ]
  },
  {
   "cell_type": "code",
   "execution_count": 41,
   "metadata": {
    "collapsed": false
   },
   "outputs": [
    {
     "data": {
      "text/plain": [
       "(-2.559423417560121,[0.133679,0.350366],:XTOL_REACHED)"
      ]
     },
     "execution_count": 41,
     "metadata": {},
     "output_type": "execute_result"
    }
   ],
   "source": [
    "opt = Opt(:LD_MMA, 2)\n",
    "lower_bounds!(opt, [0., 0.])\n",
    "upper_bounds!(opt, [0.5, 0.5])\n",
    "xtol_rel!(opt,1e-4)\n",
    "\n",
    "min_objective!(opt, gibbs_nlopt)\n",
    "inequality_constraint!(opt, (x,g) -> cons_nlopt(x,g), 1e-8)\n",
    "\n",
    "(minf,minx,ret) = optimize(opt, [0.2, 0.2])"
   ]
  },
  {
   "cell_type": "code",
   "execution_count": null,
   "metadata": {
    "collapsed": true
   },
   "outputs": [],
   "source": []
  }
 ],
 "metadata": {
  "kernelspec": {
   "display_name": "Julia 0.5.0",
   "language": "julia",
   "name": "julia-0.5"
  },
  "language_info": {
   "file_extension": ".jl",
   "mimetype": "application/julia",
   "name": "julia",
   "version": "0.5.0"
  }
 },
 "nbformat": 4,
 "nbformat_minor": 0
}
