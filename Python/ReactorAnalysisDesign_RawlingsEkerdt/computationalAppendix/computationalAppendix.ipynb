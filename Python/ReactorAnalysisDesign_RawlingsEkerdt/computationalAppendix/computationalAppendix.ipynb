{
 "cells": [
  {
   "cell_type": "markdown",
   "metadata": {},
   "source": [
    "## Chemical Reactor Analysis and Design Fundamentals - Rawlings and Ekerdt: Computational Appendix\n",
    "This notebook is an attempt at python version of octave code from [computational appendix](http://jbrwww.che.wisc.edu/home/jbraw/chemreacfun/web-appendix.pdf).\n",
    "\n",
    "### A1. Linear Algebra and Least Squares"
   ]
  },
  {
   "cell_type": "code",
   "execution_count": 1,
   "metadata": {
    "collapsed": false
   },
   "outputs": [
    {
     "name": "stderr",
     "output_type": "stream",
     "text": [
      "/Users/shanki/anaconda/lib/python2.7/site-packages/matplotlib/font_manager.py:273: UserWarning: Matplotlib is building the font cache using fc-list. This may take a moment.\n",
      "  warnings.warn('Matplotlib is building the font cache using fc-list. This may take a moment.')\n"
     ]
    }
   ],
   "source": [
    "import numpy as np\n",
    "import matplotlib.pyplot as plt\n",
    "%matplotlib inline"
   ]
  },
  {
   "cell_type": "code",
   "execution_count": 2,
   "metadata": {
    "collapsed": false
   },
   "outputs": [
    {
     "name": "stdout",
     "output_type": "stream",
     "text": [
      "[[ 0  1  0 -1 -1  1]\n",
      " [-1  1  1 -1  0  0]\n",
      " [ 1  0 -1  0 -1  1]]\n",
      "('Rank of matrix is ', 2)\n"
     ]
    }
   ],
   "source": [
    "# stoichiometric matrix\n",
    "stoi = np.array([[0,1,0,-1,-1,1],\n",
    "                [-1,1,1,-1,0,0],\n",
    "                [1,0,-1,0,-1,1]])\n",
    "print(stoi)\n",
    "\n",
    "# rank of stoichiometric matrix\n",
    "rank = np.linalg.matrix_rank(stoi)\n",
    "print('Rank of matrix is ',rank)"
   ]
  },
  {
   "cell_type": "code",
   "execution_count": 3,
   "metadata": {
    "collapsed": false
   },
   "outputs": [
    {
     "name": "stdout",
     "output_type": "stream",
     "text": [
      "[ 1  3 -1 -3 -4  4]\n"
     ]
    }
   ],
   "source": [
    "# reaction rates of 3 reactions \n",
    "r = np.array([1,2,3])\n",
    "\n",
    "# species production rates\n",
    "R = np.dot(np.transpose(stoi),r)\n",
    "print R"
   ]
  },
  {
   "cell_type": "code",
   "execution_count": 4,
   "metadata": {
    "collapsed": false
   },
   "outputs": [
    {
     "name": "stdout",
     "output_type": "stream",
     "text": [
      "Stoichiometry Matrix\n",
      "[[ 0  1  0 -1 -1  1]\n",
      " [-1  1  1 -1  0  0]]\n",
      "\n",
      "Reaction rates\n",
      "[1 2]\n",
      "\n",
      "Species rates\n",
      "[-2  3  2 -3 -1  1]\n",
      "\n"
     ]
    }
   ],
   "source": [
    "# Example A.1: Estimating Reaction Rates\n",
    "\n",
    "stoi = np.array([[0,1,0,-1,-1,1],[-1,1,1,-1,0,0]])\n",
    "print(\"Stoichiometry Matrix\")\n",
    "print(stoi)\n",
    "print\n",
    "\n",
    "r = np.array([1,2])\n",
    "print(\"Reaction rates\")\n",
    "print(r)\n",
    "print\n",
    "\n",
    "R = np.dot(np.transpose(stoi),r)\n",
    "print(\"Species rates\")\n",
    "print R\n",
    "print"
   ]
  },
  {
   "cell_type": "code",
   "execution_count": 5,
   "metadata": {
    "collapsed": false
   },
   "outputs": [
    {
     "name": "stdout",
     "output_type": "stream",
     "text": [
      "6\n"
     ]
    }
   ],
   "source": [
    "# Simulate species formation rates\n",
    "nmeas = 2000\n",
    "nspec = stoi.shape[1]\n",
    "print nspec\n",
    "\n",
    "Rexpt = np.random.randn(nmeas,nspec)*0.05 + np.repeat([R],[nmeas],axis = 0)"
   ]
  },
  {
   "cell_type": "code",
   "execution_count": 6,
   "metadata": {
    "collapsed": false
   },
   "outputs": [
    {
     "data": {
      "text/plain": [
       "(2000, 2)"
      ]
     },
     "execution_count": 6,
     "metadata": {},
     "output_type": "execute_result"
    }
   ],
   "source": [
    "# Estimate reaction rates\n",
    "nu_nuT = np.dot(stoi,np.transpose(stoi))\n",
    "nu_nuT_inv = np.linalg.inv(nu_nuT)\n",
    "nu_R = np.dot(stoi,np.transpose(Rexpt))\n",
    "rest = np.dot(nu_nuT_inv,nu_R)\n",
    "rest = np.transpose(rest)\n",
    "rest.shape"
   ]
  },
  {
   "cell_type": "code",
   "execution_count": 7,
   "metadata": {
    "collapsed": false
   },
   "outputs": [
    {
     "data": {
      "text/plain": [
       "<matplotlib.collections.PathCollection at 0x10c2bdb50>"
      ]
     },
     "execution_count": 7,
     "metadata": {},
     "output_type": "execute_result"
    },
    {
     "data": {
      "image/png": "[encoded data removed]",
      "text/plain": [
       "<matplotlib.figure.Figure at 0x10b88ee50>"
      ]
     },
     "metadata": {},
     "output_type": "display_data"
    }
   ],
   "source": [
    "plt.scatter(rest[:,0],rest[:,1])"
   ]
  },
  {
   "cell_type": "markdown",
   "metadata": {
    "collapsed": true
   },
   "source": [
    "## Solving Nonlinear Equations"
   ]
  },
  {
   "cell_type": "code",
   "execution_count": 8,
   "metadata": {
    "collapsed": true
   },
   "outputs": [],
   "source": [
    "def dgdx(x):\n",
    "    K1 = 108\n",
    "    K2 = 284\n",
    "    P = 2.5\n",
    "    yI0 = 0.5\n",
    "    yB0 = 0.5\n",
    "    yP10 = 0.0\n",
    "    yP20 = 0.0\n",
    "    d = 1 - x[0] - x[1]\n",
    "    yI = (yI0 - x[0] - x[1])/d\n",
    "    yB = (yB0 - x[0] - x[1])/d\n",
    "    yP1 = (yP10 + x[0])/d\n",
    "    yP2 = (yP20 + x[1])/d\n",
    "    residual = np.zeros(2)\n",
    "    residual[0] = P*K1*yI*yB - yP1\n",
    "    residual[1] = P*K2*yI*yB - yP2\n",
    "    return residual"
   ]
  },
  {
   "cell_type": "code",
   "execution_count": 9,
   "metadata": {
    "collapsed": false
   },
   "outputs": [],
   "source": [
    "xinit = np.array([0.2,0.2])"
   ]
  },
  {
   "cell_type": "code",
   "execution_count": 10,
   "metadata": {
    "collapsed": false
   },
   "outputs": [],
   "source": [
    "import scipy.optimize as spopt\n",
    "solobj = spopt.fsolve(dgdx,xinit,full_output = 1)"
   ]
  },
  {
   "cell_type": "code",
   "execution_count": 11,
   "metadata": {
    "collapsed": false
   },
   "outputs": [
    {
     "data": {
      "text/plain": [
       "(array([ 0.13335692,  0.35067931]), {'fjac': array([[-0.37473938, -0.9271302 ],\n",
       "         [ 0.9271302 , -0.37473938]]),\n",
       "  'fvec': array([ -1.80883086e-11,  -4.63823424e-11]),\n",
       "  'nfev': 13,\n",
       "  'qtf': array([ -1.00517351e-07,  -1.20727197e-09]),\n",
       "  'r': array([ 85.32030584,  98.724343  ,   2.67276552])}, 1, 'The solution converged.')"
      ]
     },
     "execution_count": 11,
     "metadata": {},
     "output_type": "execute_result"
    }
   ],
   "source": [
    "solobj"
   ]
  },
  {
   "cell_type": "code",
   "execution_count": 12,
   "metadata": {
    "collapsed": false
   },
   "outputs": [
    {
     "name": "stdout",
     "output_type": "stream",
     "text": [
      "[ 0.13335692  0.35067931]\n",
      "('The solution converged.',)\n"
     ]
    }
   ],
   "source": [
    "# Solution\n",
    "x = solobj[0]\n",
    "print x\n",
    "\n",
    "# last element of solobj has message (in this case solution converged)\n",
    "print solobj[-1:]"
   ]
  },
  {
   "cell_type": "markdown",
   "metadata": {},
   "source": [
    "## Nonlinear Optimization"
   ]
  },
  {
   "cell_type": "code",
   "execution_count": 13,
   "metadata": {
    "collapsed": false
   },
   "outputs": [],
   "source": [
    "def gibbs(x):\n",
    "    dg1 = -3.72e3\n",
    "    dg2 = -4.49e3\n",
    "    T = 400\n",
    "    R = 1.987\n",
    "    P = 2.5\n",
    "    K1 = np.exp(-dg1/(R*T))\n",
    "    K2 = np.exp(-dg2/(R*T))\n",
    "    yI0 = 0.5\n",
    "    yB0 = 0.5\n",
    "    yP10 = 0.0\n",
    "    yP20 = 0.0\n",
    "    d = 1 - x[0] - x[1]\n",
    "    yI = (yI0 - x[0] - x[1])/d\n",
    "    yB = (yB0 - x[0] - x[1])/d\n",
    "    yP1 = (yP10 + x[0])/d\n",
    "    yP2 = (yP20 + x[1])/d\n",
    "    retval = -(x[0]*np.log(K1) + x[1]*np.log(K2)) + (1-x[0]-x[1])*np.log(P) + yI*d*np.log(yI) + \\\n",
    "          yB*d*np.log(yB) + yP1*d*np.log(yP1) + yP2*d*np.log(yP2)\n",
    "        \n",
    "    print x, retval\n",
    "    return retval   "
   ]
  },
  {
   "cell_type": "code",
   "execution_count": 14,
   "metadata": {
    "collapsed": false
   },
   "outputs": [
    {
     "name": "stdout",
     "output_type": "stream",
     "text": [
      "[ 0.2  0.2] -2.31395090567\n"
     ]
    },
    {
     "data": {
      "text/plain": [
       "-2.3139509056689858"
      ]
     },
     "execution_count": 14,
     "metadata": {},
     "output_type": "execute_result"
    }
   ],
   "source": [
    "gibbs(np.array([0.2,0.2]))"
   ]
  },
  {
   "cell_type": "code",
   "execution_count": 15,
   "metadata": {
    "collapsed": true
   },
   "outputs": [],
   "source": [
    "cons = ({'type':'ineq','fun': lambda x: -x[0]-x[1]+0.49})\n",
    "bnds = ((0.0,0.5),(0.0,0.5))"
   ]
  },
  {
   "cell_type": "code",
   "execution_count": 16,
   "metadata": {
    "collapsed": false
   },
   "outputs": [
    {
     "name": "stdout",
     "output_type": "stream",
     "text": [
      "[ 0.2  0.2] -2.31395090567\n",
      "[ 0.21  0.2 ] -2.3438717325\n",
      "[ 0.2   0.21] -2.35355970432\n",
      "[ 0.21  0.21] -2.38142321337\n",
      "[ 0.215  0.215] -2.41143649816\n",
      "[ 0.205  0.225] -2.42065918586\n",
      "[ 0.2025  0.2375] -2.45408614368\n",
      "[ 0.2175  0.2425] -2.49327159964\n",
      "[ 0.22625  0.25875] -2.5190704609\n",
      "[ 0.21375  0.28125] -2.52109939438\n",
      "[ 0.213125  0.314375] nan\n",
      "[ 0.2375  0.3025] nan\n",
      "[ 0.21125  0.25375] -2.50847279427\n",
      "[ 0.22875  0.28625] nan\n",
      "[ 0.215625  0.261875] -2.52311210268\n",
      "[ 0.203125  0.284375] -2.53593488691\n",
      "[ 0.1915625  0.2971875] -2.54215758981\n",
      "[ 0.1934375  0.2778125] -2.53104230049\n",
      "[ 0.169375  0.313125] -2.55250662846\n",
      "[ 0.14625  0.33875] -2.55838948798\n",
      "[ 0.144375  0.358125] nan\n",
      "[ 0.18117187  0.29789062] -2.54591334994\n",
      "[ 0.13585937  0.33945312] -2.55506478673\n",
      "[ 0.1009375  0.3803125] -2.55336848778\n",
      "[ 0.12099609  0.35970703] -2.55795771479\n",
      "[ 0.13138672  0.35900391] -2.55626062733\n",
      "[ 0.13250488  0.35411621] -2.55882838242\n",
      "[ 0.15775879  0.33315918] -2.55321111652\n",
      "[ 0.13018677  0.35307007] -2.55920530436\n",
      "[ 0.11644165  0.36843628] -2.55770761528\n",
      "[ 0.13879791  0.34617157] -2.5590784463\n",
      "[ 0.1364798   0.34512543] -2.55884807497\n",
      "[ 0.13548607  0.34737312] -2.5591618962\n",
      "[ 0.12687492  0.35427162] -2.55862972658\n",
      "[ 0.13581717  0.34819658] -2.55924606392\n",
      "[ 0.13051786  0.35389353] -2.55923404065\n",
      "[ 0.13614826  0.34902004] -2.55916314687\n",
      "[ 0.13167714  0.35205756] -2.55926658135\n",
      "[ 0.13697644  0.34636062] -2.55916993374\n",
      "[ 0.13213251  0.3520103 ] -2.55927582927\n",
      "[ 0.12799248  0.35587128] -2.55914326801\n",
      "[ 0.133861    0.35011526] -2.55927964673\n",
      "[ 0.13431636  0.350068  ] -2.55926897763\n",
      "[ 0.13365656  0.35056539] -2.5592792431\n",
      "[ 0.13538504  0.34867034] -2.55925718221\n",
      "[ 0.13294564  0.35117531] -2.55928166899\n",
      "[ 0.13315008  0.35072518] -2.55928088205\n",
      "[ 0.13223473  0.35178524] -2.55927796914\n",
      "[ 0.13345443  0.35053275] -2.55928185634\n",
      "[ 0.13324999  0.35098288] -2.55927996166\n",
      "[ 0.13317506  0.35078961] -2.55928215445\n",
      "[ 0.13368384  0.35014705] -2.55927819046\n",
      "[ 0.13313019  0.35091824] -2.55928243607\n",
      "[ 0.13285082  0.3511751 ] -2.55928194148\n",
      "[ 0.13300172  0.35101451] -2.55928230438\n",
      "[ 0.13295686  0.35114315] -2.55928191235\n",
      "[ 0.13312051  0.35087799] -2.55928237248\n",
      "[ 0.13324898  0.35078172] -2.55928242247\n",
      "[ 0.13325866  0.35082198] -2.55928228938\n",
      "[ 0.13315505  0.35086399] -2.55928244398\n"
     ]
    },
    {
     "name": "stderr",
     "output_type": "stream",
     "text": [
      "/Users/shanki/anaconda/lib/python2.7/site-packages/scipy/optimize/_minimize.py:394: RuntimeWarning: Method Nelder-Mead cannot handle constraints nor bounds.\n",
      "  RuntimeWarning)\n",
      "/Users/shanki/anaconda/lib/python2.7/site-packages/ipykernel/__main__.py:18: RuntimeWarning: invalid value encountered in log\n"
     ]
    }
   ],
   "source": [
    "x0 = np.array([0.2,0.2])\n",
    "res = spopt.minimize(gibbs, x0, method = \"Nelder-Mead\", bounds = bnds, constraints = cons)"
   ]
  },
  {
   "cell_type": "code",
   "execution_count": 17,
   "metadata": {
    "collapsed": false
   },
   "outputs": [
    {
     "data": {
      "text/plain": [
       " final_simplex: (array([[ 0.13315505,  0.35086399],\n",
       "       [ 0.13313019,  0.35091824],\n",
       "       [ 0.13324898,  0.35078172]]), array([-2.55928244, -2.55928244, -2.55928242]))\n",
       "           fun: -2.5592824439800417\n",
       "       message: 'Optimization terminated successfully.'\n",
       "          nfev: 60\n",
       "           nit: 32\n",
       "        status: 0\n",
       "       success: True\n",
       "             x: array([ 0.13315505,  0.35086399])"
      ]
     },
     "execution_count": 17,
     "metadata": {},
     "output_type": "execute_result"
    }
   ],
   "source": [
    "res"
   ]
  },
  {
   "cell_type": "code",
   "execution_count": 18,
   "metadata": {
    "collapsed": false
   },
   "outputs": [
    {
     "name": "stdout",
     "output_type": "stream",
     "text": [
      "[ 0.2  0.2] -2.31395090567\n"
     ]
    },
    {
     "data": {
      "text/plain": [
       "-2.3139509056689858"
      ]
     },
     "execution_count": 18,
     "metadata": {},
     "output_type": "execute_result"
    }
   ],
   "source": [
    "gibbs(np.array([0.2,0.2]))"
   ]
  },
  {
   "cell_type": "code",
   "execution_count": null,
   "metadata": {
    "collapsed": true
   },
   "outputs": [],
   "source": []
  }
 ],
 "metadata": {
  "kernelspec": {
   "display_name": "Python 2",
   "language": "python",
   "name": "python2"
  },
  "language_info": {
   "codemirror_mode": {
    "name": "ipython",
    "version": 2
   },
   "file_extension": ".py",
   "mimetype": "text/x-python",
   "name": "python",
   "nbconvert_exporter": "python",
   "pygments_lexer": "ipython2",
   "version": "2.7.11"
  }
 },
 "nbformat": 4,
 "nbformat_minor": 0
}
