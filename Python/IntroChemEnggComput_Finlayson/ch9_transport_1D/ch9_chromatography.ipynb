{
 "cells": [
  {
   "cell_type": "code",
   "execution_count": 2,
   "metadata": {},
   "outputs": [],
   "source": [
    "#\n",
    "# Chapter 9\n",
    "# Chromatography\n",
    "#"
   ]
  },
  {
   "cell_type": "code",
   "execution_count": 4,
   "metadata": {},
   "outputs": [],
   "source": [
    "# Import libraries\n",
    "import numpy as np\n",
    "import matplotlib.pyplot as plt\n",
    "from scipy.integrate import solve_ivp"
   ]
  },
  {
   "cell_type": "code",
   "execution_count": 42,
   "metadata": {},
   "outputs": [],
   "source": [
    "# rate using backward difference for dc/dz\n",
    "def ratefn_bd(t, y, cf_in, gamma, K, L, e, Pe, phi, nz):\n",
    "    \n",
    "    # get c and q from y vector\n",
    "    ym = y.reshape((nz, 2))\n",
    "    c = ym[:, 0]\n",
    "    q = ym[:, 1]\n",
    "    \n",
    "    dz = L / (nz + 1.0)\n",
    "    \n",
    "    # isotherm relation\n",
    "    qe = gamma * c / (1.0 + K * c)\n",
    "    \n",
    "    # rate of each species at each grid point in liquid phase\n",
    "    \n",
    "    dc = np.zeros(nz)\n",
    "    # rate at internal grid points\n",
    "    for i in range(1, nz - 1):\n",
    "        dc[i] = -(c[i] - c[i - 1]) / dz + (1.0 / Pe) * (c[i + 1] - 2 * c[i] + c[i - 1]) / dz**2 - (1 - e) / e * phi * (qe[i] - q[i])\n",
    "    \n",
    "    # rate at outlet edge grid\n",
    "    i = nz - 1\n",
    "    dc[i] = -(c[i] - c[i - 1]) / dz + (1.0 / Pe) * (c[i] - 2 * c[i] + c[i - 1]) / dz**2 - (1 - e) / e * phi * (qe[i] - q[i])\n",
    "    \n",
    "    # rate at inlet edge grid\n",
    "    i = 0\n",
    "    cin = cf_in\n",
    "    dc[i] = -(c[i] - cin) / dz + (1 / Pe) * (c[i + 1] - 2 * c[i] + cin) / dz**2 - (1 - e) / e * phi * (qe[i] - q[i])\n",
    "    \n",
    "    # rate at solid adsorbent\n",
    "    dq = np.zeros(nz)\n",
    "    for i in range(nz):\n",
    "        dq[i] = phi * (qe[i] - q[i])\n",
    "    \n",
    "    # combine dc and dq vector into dy vector\n",
    "    dy = np.column_stack((dc, dq)).reshape(2 * nz,)\n",
    "        \n",
    "    return dy"
   ]
  },
  {
   "cell_type": "code",
   "execution_count": 136,
   "metadata": {},
   "outputs": [],
   "source": [
    "# rate using central difference for dc/dz\n",
    "def ratefn_cd(t, y, cf_in, gamma, K, L, e, Pe, phi, nz):\n",
    "    \n",
    "    # get c and q from y vector\n",
    "    ym = y.reshape((nz, 2))\n",
    "    c = ym[:, 0]\n",
    "    q = ym[:, 1]\n",
    "    \n",
    "    dz = L / (nz + 1.0)\n",
    "    \n",
    "    # isotherm relation\n",
    "    qe = gamma * c / (1.0 + K * c)\n",
    "    \n",
    "    # rate of each species at each grid point in liquid phase\n",
    "    \n",
    "    dc = np.zeros(nz)\n",
    "    # rate at internal grid points\n",
    "    for i in range(1, nz - 1):\n",
    "        dc[i] = -(c[i + 1] - c[i - 1]) / (2 * dz) + (1.0 / Pe) * (c[i + 1] - 2 * c[i] + c[i - 1]) / dz**2 - (1 - e) / e * phi * (qe[i] - q[i])\n",
    "    \n",
    "    # rate at outlet edge grid\n",
    "    i = nz - 1\n",
    "    dc[i] = -(c[i] - c[i - 1]) / (2 * dz) + (1.0 / Pe) * (c[i] - 2 * c[i] + c[i - 1]) / dz**2 - (1 - e) / e * phi * (qe[i] - q[i])\n",
    "    \n",
    "    # rate at inlet edge grid\n",
    "    i = 0\n",
    "    cin = cf_in\n",
    "    dc[i] = -(c[i + 1] - cin) / (2 * dz) + (1 / Pe) * (c[i + 1] - 2 * c[i] + cin) / dz**2 - (1 - e) / e * phi * (qe[i] - q[i])\n",
    "    \n",
    "    # rate at solid adsorbent\n",
    "    dq = np.zeros(nz)\n",
    "    for i in range(nz):\n",
    "        dq[i] = phi * (qe[i] - q[i])\n",
    "    \n",
    "    # combine dc and dq vector into dy vector\n",
    "    dy = np.column_stack((dc, dq)).reshape(2 * nz,)\n",
    "        \n",
    "    return dy"
   ]
  },
  {
   "cell_type": "code",
   "execution_count": 145,
   "metadata": {},
   "outputs": [],
   "source": [
    "L = 2\n",
    "Pe = 1000  # u*L/D\n",
    "phi = 1000 # km*L/u\n",
    "gamma = 0.1\n",
    "K = 2\n",
    "e = 0.4\n",
    "cf_in = 0\n",
    "nz = 200"
   ]
  },
  {
   "cell_type": "code",
   "execution_count": 146,
   "metadata": {},
   "outputs": [],
   "source": [
    "dz = L / (nz + 1)\n",
    "z = np.arange(0, nz * dz, dz)\n",
    "#print(z), print(len(z))\n",
    "c0 = np.zeros(nz)\n",
    "c0[(z >= 0.25) & (z <= 0.75)] = 1\n",
    "#c0"
   ]
  },
  {
   "cell_type": "code",
   "execution_count": 147,
   "metadata": {},
   "outputs": [],
   "source": [
    "q0 = gamma * c0 / (1.0 + K * c0)\n",
    "#print(q0)"
   ]
  },
  {
   "cell_type": "code",
   "execution_count": 148,
   "metadata": {},
   "outputs": [],
   "source": [
    "y0 = np.column_stack((c0, q0)).reshape (2 * nz, )"
   ]
  },
  {
   "cell_type": "code",
   "execution_count": 149,
   "metadata": {},
   "outputs": [],
   "source": [
    "ratefn_l = lambda t, y: ratefn_cd(t, y, cf_in, gamma, K, L, e, Pe, phi, nz)"
   ]
  },
  {
   "cell_type": "code",
   "execution_count": 150,
   "metadata": {},
   "outputs": [],
   "source": [
    "ysol = solve_ivp(ratefn_l, [0, 1], y0, method = 'LSODA', t_eval = np.arange(0.0, 1.1, 0.1), lband = 4, uband = 4)"
   ]
  },
  {
   "cell_type": "code",
   "execution_count": 151,
   "metadata": {},
   "outputs": [
    {
     "name": "stdout",
     "output_type": "stream",
     "text": [
      "(200, 2, 11)\n"
     ]
    }
   ],
   "source": [
    "ysolm = ysol.y.reshape((nz, 2, -1))\n",
    "print(ysolm.shape)\n",
    "ysol_c = ysolm[:, 0, :]\n",
    "ysol_q = ysolm[:, 1, :]"
   ]
  },
  {
   "cell_type": "code",
   "execution_count": 152,
   "metadata": {},
   "outputs": [
    {
     "data": {
      "text/plain": [
       "Text(0, 0.5, 'c')"
      ]
     },
     "execution_count": 152,
     "metadata": {},
     "output_type": "execute_result"
    },
    {
     "data": {
      "image/png": "[encoded data removed]",
      "text/plain": [
       "<Figure size 432x288 with 1 Axes>"
      ]
     },
     "metadata": {
      "needs_background": "light"
     },
     "output_type": "display_data"
    }
   ],
   "source": [
    "# Plot c\n",
    "plt.plot(z, ysol_c[:, [0, 10]])\n",
    "plt.xlabel('z')\n",
    "plt.ylabel('c')"
   ]
  },
  {
   "cell_type": "code",
   "execution_count": null,
   "metadata": {},
   "outputs": [],
   "source": []
  }
 ],
 "metadata": {
  "kernelspec": {
   "display_name": "Python 3",
   "language": "python",
   "name": "python3"
  },
  "language_info": {
   "codemirror_mode": {
    "name": "ipython",
    "version": 3
   },
   "file_extension": ".py",
   "mimetype": "text/x-python",
   "name": "python",
   "nbconvert_exporter": "python",
   "pygments_lexer": "ipython3",
   "version": "3.6.9"
  }
 },
 "nbformat": 4,
 "nbformat_minor": 2
}
